{
 "cells": [
  {
   "cell_type": "code",
   "execution_count": 1,
   "metadata": {
    "collapsed": true
   },
   "outputs": [],
   "source": [
    "#imports\n",
    "from pybaseball import statcast, schedule_and_record\n",
    "from pybaseball import statcast_single_game\n",
    "import pandas as pd\n",
    "import numpy as np\n",
    "import matplotlib.pyplot as plt\n",
    "import warnings\n",
    "warnings.filterwarnings('ignore')\n",
    "%matplotlib inline"
   ]
  },
  {
   "cell_type": "code",
   "execution_count": 2,
   "metadata": {},
   "outputs": [
    {
     "name": "stdout",
     "output_type": "stream",
     "text": [
      "                  Date   Tm Home_Away  Opp   W/L     R    RA   Inn    W-L  \\\n",
      "1     Thursday, Mar 29  TBR      Home  BOS     W   6.0   4.0   9.0    1-0   \n",
      "2       Friday, Mar 30  TBR      Home  BOS     L   0.0   1.0   9.0    1-1   \n",
      "3     Saturday, Mar 31  TBR      Home  BOS     L   2.0   3.0   9.0    1-2   \n",
      "4        Sunday, Apr 1  TBR      Home  BOS     L   1.0   2.0   9.0    1-3   \n",
      "5       Tuesday, Apr 3  TBR         @  NYY     L   4.0  11.0   9.0    1-4   \n",
      "6     Wednesday, Apr 4  TBR         @  NYY     L   2.0   7.0   9.0    1-5   \n",
      "7      Thursday, Apr 5  TBR         @  BOS  L-wo   2.0   3.0  12.0    1-6   \n",
      "8      Saturday, Apr 7  TBR         @  BOS     L   3.0  10.0   9.0    1-7   \n",
      "9        Sunday, Apr 8  TBR         @  BOS     L   7.0   8.0   9.0    1-8   \n",
      "10       Monday, Apr 9  TBR         @  CHW     W   5.0   4.0   9.0    2-8   \n",
      "11     Tuesday, Apr 10  TBR         @  CHW     W   6.0   5.0   9.0    3-8   \n",
      "12   Wednesday, Apr 11  TBR         @  CHW     L   1.0   2.0   9.0    3-9   \n",
      "13      Friday, Apr 13  TBR      Home  PHI     L   1.0   2.0   9.0   3-10   \n",
      "14    Saturday, Apr 14  TBR      Home  PHI     L   4.0   9.0   9.0   3-11   \n",
      "15      Sunday, Apr 15  TBR      Home  PHI     L   4.0  10.0   9.0   3-12   \n",
      "16      Monday, Apr 16  TBR      Home  TEX     W   8.0   4.0   9.0   4-12   \n",
      "17     Tuesday, Apr 17  TBR      Home  TEX     L   2.0   7.0   9.0   4-13   \n",
      "18   Wednesday, Apr 18  TBR      Home  TEX     W   4.0   2.0   9.0   5-13   \n",
      "19      Friday, Apr 20  TBR      Home  MIN  W-wo   8.0   7.0  10.0   6-13   \n",
      "20    Saturday, Apr 21  TBR      Home  MIN     W  10.0   1.0   9.0   7-13   \n",
      "21      Sunday, Apr 22  TBR      Home  MIN  W-wo   8.0   6.0   9.0   8-13   \n",
      "22   Wednesday, Apr 25  TBR         @  BAL     W   8.0   4.0   9.0   9-13   \n",
      "23    Thursday, Apr 26  TBR         @  BAL     W   9.0   5.0   9.0  10-13   \n",
      "24      Friday, Apr 27  TBR         @  BOS     W   4.0   3.0   9.0  11-13   \n",
      "25    Saturday, Apr 28  TBR         @  BOS     W  12.0   6.0   9.0  12-13   \n",
      "26      Sunday, Apr 29  TBR         @  BOS     L   3.0   4.0   9.0  12-14   \n",
      "27      Monday, Apr 30  TBR         @  DET     W   3.0   2.0   9.0  13-14   \n",
      "28      Tuesday, May 1  TBR         @  DET     L   1.0   2.0   9.0  13-15   \n",
      "29    Wednesday, May 2  TBR         @  DET  L-wo   2.0   3.0  12.0  13-16   \n",
      "30       Friday, May 4  TBR      Home  TOR     W   6.0   2.0   9.0  14-16   \n",
      "..                 ...  ...       ...  ...   ...   ...   ...   ...    ...   \n",
      "133  Wednesday, Aug 29  TBR         @  ATL  None   NaN   NaN   NaN   None   \n",
      "134     Friday, Aug 31  TBR         @  CLE  None   NaN   NaN   NaN   None   \n",
      "135    Saturday, Sep 1  TBR         @  CLE  None   NaN   NaN   NaN   None   \n",
      "136      Sunday, Sep 2  TBR         @  CLE  None   NaN   NaN   NaN   None   \n",
      "137      Monday, Sep 3  TBR         @  TOR  None   NaN   NaN   NaN   None   \n",
      "138     Tuesday, Sep 4  TBR         @  TOR  None   NaN   NaN   NaN   None   \n",
      "139   Wednesday, Sep 5  TBR         @  TOR  None   NaN   NaN   NaN   None   \n",
      "140      Friday, Sep 7  TBR      Home  BAL  None   NaN   NaN   NaN   None   \n",
      "141    Saturday, Sep 8  TBR      Home  BAL  None   NaN   NaN   NaN   None   \n",
      "142      Sunday, Sep 9  TBR      Home  BAL  None   NaN   NaN   NaN   None   \n",
      "143     Monday, Sep 10  TBR      Home  CLE  None   NaN   NaN   NaN   None   \n",
      "144    Tuesday, Sep 11  TBR      Home  CLE  None   NaN   NaN   NaN   None   \n",
      "145  Wednesday, Sep 12  TBR      Home  CLE  None   NaN   NaN   NaN   None   \n",
      "146     Friday, Sep 14  TBR      Home  OAK  None   NaN   NaN   NaN   None   \n",
      "147   Saturday, Sep 15  TBR      Home  OAK  None   NaN   NaN   NaN   None   \n",
      "148     Sunday, Sep 16  TBR      Home  OAK  None   NaN   NaN   NaN   None   \n",
      "149     Monday, Sep 17  TBR         @  TEX  None   NaN   NaN   NaN   None   \n",
      "150    Tuesday, Sep 18  TBR         @  TEX  None   NaN   NaN   NaN   None   \n",
      "151  Wednesday, Sep 19  TBR         @  TEX  None   NaN   NaN   NaN   None   \n",
      "152   Thursday, Sep 20  TBR         @  TOR  None   NaN   NaN   NaN   None   \n",
      "153     Friday, Sep 21  TBR         @  TOR  None   NaN   NaN   NaN   None   \n",
      "154   Saturday, Sep 22  TBR         @  TOR  None   NaN   NaN   NaN   None   \n",
      "155     Sunday, Sep 23  TBR         @  TOR  None   NaN   NaN   NaN   None   \n",
      "156     Monday, Sep 24  TBR      Home  NYY  None   NaN   NaN   NaN   None   \n",
      "157    Tuesday, Sep 25  TBR      Home  NYY  None   NaN   NaN   NaN   None   \n",
      "158  Wednesday, Sep 26  TBR      Home  NYY  None   NaN   NaN   NaN   None   \n",
      "159   Thursday, Sep 27  TBR      Home  NYY  None   NaN   NaN   NaN   None   \n",
      "160     Friday, Sep 28  TBR      Home  TOR  None   NaN   NaN   NaN   None   \n",
      "161   Saturday, Sep 29  TBR      Home  TOR  None   NaN   NaN   NaN   None   \n",
      "162     Sunday, Sep 30  TBR      Home  TOR  None   NaN   NaN   NaN   None   \n",
      "\n",
      "     Rank    GB        Win       Loss      Save  Time   D/N  Attendance  \\\n",
      "1     1.0  Tied     Pruitt      Smith    Colome  3:00     D     31042.0   \n",
      "2     3.0   1.0      Price        Roe   Kimbrel  2:46     N     19203.0   \n",
      "3     4.0   1.0   Porcello  Kittredge   Kimbrel  3:21     N     17838.0   \n",
      "4     5.0   2.0  Velazquez   Alvarado     Kelly  3:24     D     14256.0   \n",
      "5     4.0   3.5     Kahnle     Pruitt      None  3:29     D     46776.0   \n",
      "6     4.0   4.0   Severino      Snell      None  2:44     D     40028.0   \n",
      "7     5.0   5.0     Poyner  Kittredge      None  3:55     D     36134.0   \n",
      "8     5.0   6.0   Porcello      Faria      None  2:48     D     31821.0   \n",
      "9     5.0   7.0      Smith     Colome   Kimbrel  3:50     D     31979.0   \n",
      "10    5.0   6.5     Archer   Gonzalez    Colome  3:47     D     10377.0   \n",
      "11    5.0   6.5      Snell     Fulmer    Colome  3:44     D     10069.0   \n",
      "12    5.0   6.5     Rondon     Pruitt     Jones  3:02     D     10431.0   \n",
      "13    5.0   8.0      Ramos     Colome     Neris  2:53     N     13372.0   \n",
      "14    5.0   9.0    Arrieta     Archer      None  2:46     N     20934.0   \n",
      "15    5.0  10.0       Rios  Yarbrough      None  3:34     D     19841.0   \n",
      "16    5.0   9.5      Snell      Perez      None  2:49     N      9363.0   \n",
      "17    5.0  10.5      Moore   Chirinos      None  2:44     N      8972.0   \n",
      "18    4.0  10.5      Faria     Hamels    Colome  2:36     D      8657.0   \n",
      "19    4.0  11.0     Colome       Duke      None  3:30     N      9786.0   \n",
      "20    4.0  10.0      Snell     Gibson      None  2:53     N     10106.0   \n",
      "21    4.0   9.0     Colome       Reed      None  3:39     D     12515.0   \n",
      "22    4.0   8.5  Kittredge       Cobb      None  2:53     N      8730.0   \n",
      "23    4.0   8.5     Archer      Bundy      None  3:20     N      9596.0   \n",
      "24    4.0   7.5      Snell   Pomeranz    Colome  3:10     N     32620.0   \n",
      "25    4.0   6.5  Yarbrough      Price      None  3:52     D     35795.0   \n",
      "26    4.0   7.5    Kimbrel     Colome      None  3:01     D     32888.0   \n",
      "27    4.0   7.5      Faria     Greene  Alvarado  2:52     N     19398.0   \n",
      "28    4.0   7.5       Boyd     Archer    Greene  2:28     N     17255.0   \n",
      "29    4.0   8.5    Saupold   Andriese      None  3:28     D     20866.0   \n",
      "30    4.0   8.0  Yarbrough       Happ      None  2:39     N     11117.0   \n",
      "..    ...   ...        ...        ...       ...   ...   ...         ...   \n",
      "133   NaN  None       None       None      None  None  None         NaN   \n",
      "134   NaN  None       None       None      None  None  None         NaN   \n",
      "135   NaN  None       None       None      None  None  None         NaN   \n",
      "136   NaN  None       None       None      None  None  None         NaN   \n",
      "137   NaN  None       None       None      None  None  None         NaN   \n",
      "138   NaN  None       None       None      None  None  None         NaN   \n",
      "139   NaN  None       None       None      None  None  None         NaN   \n",
      "140   NaN  None       None       None      None  None  None         NaN   \n",
      "141   NaN  None       None       None      None  None  None         NaN   \n",
      "142   NaN  None       None       None      None  None  None         NaN   \n",
      "143   NaN  None       None       None      None  None  None         NaN   \n",
      "144   NaN  None       None       None      None  None  None         NaN   \n",
      "145   NaN  None       None       None      None  None  None         NaN   \n",
      "146   NaN  None       None       None      None  None  None         NaN   \n",
      "147   NaN  None       None       None      None  None  None         NaN   \n",
      "148   NaN  None       None       None      None  None  None         NaN   \n",
      "149   NaN  None       None       None      None  None  None         NaN   \n",
      "150   NaN  None       None       None      None  None  None         NaN   \n",
      "151   NaN  None       None       None      None  None  None         NaN   \n",
      "152   NaN  None       None       None      None  None  None         NaN   \n",
      "153   NaN  None       None       None      None  None  None         NaN   \n",
      "154   NaN  None       None       None      None  None  None         NaN   \n",
      "155   NaN  None       None       None      None  None  None         NaN   \n",
      "156   NaN  None       None       None      None  None  None         NaN   \n",
      "157   NaN  None       None       None      None  None  None         NaN   \n",
      "158   NaN  None       None       None      None  None  None         NaN   \n",
      "159   NaN  None       None       None      None  None  None         NaN   \n",
      "160   NaN  None       None       None      None  None  None         NaN   \n",
      "161   NaN  None       None       None      None  None  None         NaN   \n",
      "162   NaN  None       None       None      None  None  None         NaN   \n",
      "\n",
      "     Streak Orig. Scheduled  \n",
      "1       1.0            None  \n",
      "2      -1.0            None  \n",
      "3      -2.0            None  \n",
      "4      -3.0            None  \n",
      "5      -4.0            None  \n",
      "6      -5.0            None  \n",
      "7      -6.0            None  \n",
      "8      -7.0            None  \n",
      "9      -8.0            None  \n",
      "10      1.0            None  \n",
      "11      2.0            None  \n",
      "12     -1.0            None  \n",
      "13     -2.0            None  \n",
      "14     -3.0            None  \n",
      "15     -4.0            None  \n",
      "16      1.0            None  \n",
      "17     -1.0            None  \n",
      "18      1.0            None  \n",
      "19      2.0            None  \n",
      "20      3.0            None  \n",
      "21      4.0            None  \n",
      "22      5.0            None  \n",
      "23      6.0            None  \n",
      "24      7.0            None  \n",
      "25      8.0            None  \n",
      "26     -1.0            None  \n",
      "27      1.0            None  \n",
      "28     -1.0            None  \n",
      "29     -2.0            None  \n",
      "30      1.0            None  \n",
      "..      ...             ...  \n",
      "133     NaN            None  \n",
      "134     NaN            None  \n",
      "135     NaN            None  \n",
      "136     NaN            None  \n",
      "137     NaN            None  \n",
      "138     NaN            None  \n",
      "139     NaN            None  \n",
      "140     NaN            None  \n",
      "141     NaN            None  \n",
      "142     NaN            None  \n",
      "143     NaN            None  \n",
      "144     NaN            None  \n",
      "145     NaN            None  \n",
      "146     NaN            None  \n",
      "147     NaN            None  \n",
      "148     NaN            None  \n",
      "149     NaN            None  \n",
      "150     NaN            None  \n",
      "151     NaN            None  \n",
      "152     NaN            None  \n",
      "153     NaN            None  \n",
      "154     NaN            None  \n",
      "155     NaN            None  \n",
      "156     NaN            None  \n",
      "157     NaN            None  \n",
      "158     NaN            None  \n",
      "159     NaN            None  \n",
      "160     NaN            None  \n",
      "161     NaN            None  \n",
      "162     NaN            None  \n",
      "\n",
      "[162 rows x 19 columns]\n"
     ]
    }
   ],
   "source": [
    "# collect Statcast data on all pitches from the months of May and June\n",
    "data = schedule_and_record(2018, 'TBR')\n",
    "print(data)"
   ]
  },
  {
   "cell_type": "code",
   "execution_count": 3,
   "metadata": {},
   "outputs": [
    {
     "ename": "ValueError",
     "evalue": "could not convert string to float: 'Standard'",
     "output_type": "error",
     "traceback": [
      "\u001b[0;31m---------------------------------------------------------------------------\u001b[0m",
      "\u001b[0;31mValueError\u001b[0m                                Traceback (most recent call last)",
      "\u001b[0;32m<ipython-input-3-778ac1b0d1e1>\u001b[0m in \u001b[0;36m<module>\u001b[0;34m()\u001b[0m\n\u001b[0;32m----> 1\u001b[0;31m \u001b[0mdata\u001b[0m \u001b[0;34m=\u001b[0m \u001b[0mstatcast_single_game\u001b[0m\u001b[0;34m(\u001b[0m\u001b[0;36m529406\u001b[0m\u001b[0;34m)\u001b[0m\u001b[0;34m\u001b[0m\u001b[0m\n\u001b[0m",
      "\u001b[0;32m~/anaconda3/lib/python3.6/site-packages/pybaseball/statcast.py\u001b[0m in \u001b[0;36mstatcast_single_game\u001b[0;34m(game_pk, team)\u001b[0m\n\u001b[1;32m    202\u001b[0m     \"\"\"\n\u001b[1;32m    203\u001b[0m     \u001b[0mdata\u001b[0m \u001b[0;34m=\u001b[0m \u001b[0msingle_game_request\u001b[0m\u001b[0;34m(\u001b[0m\u001b[0mgame_pk\u001b[0m\u001b[0;34m)\u001b[0m\u001b[0;34m\u001b[0m\u001b[0m\n\u001b[0;32m--> 204\u001b[0;31m     \u001b[0mdata\u001b[0m \u001b[0;34m=\u001b[0m \u001b[0mpostprocessing\u001b[0m\u001b[0;34m(\u001b[0m\u001b[0mdata\u001b[0m\u001b[0;34m,\u001b[0m \u001b[0mteam\u001b[0m\u001b[0;34m)\u001b[0m\u001b[0;34m\u001b[0m\u001b[0m\n\u001b[0m\u001b[1;32m    205\u001b[0m     \u001b[0;32mreturn\u001b[0m \u001b[0mdata\u001b[0m\u001b[0;34m\u001b[0m\u001b[0m\n",
      "\u001b[0;32m~/anaconda3/lib/python3.6/site-packages/pybaseball/statcast.py\u001b[0m in \u001b[0;36mpostprocessing\u001b[0;34m(data, team)\u001b[0m\n\u001b[1;32m    142\u001b[0m     \u001b[0mnot_numeric\u001b[0m \u001b[0;34m=\u001b[0m \u001b[0;34m[\u001b[0m\u001b[0;34m'sv_id'\u001b[0m\u001b[0;34m,\u001b[0m \u001b[0;34m'umpire'\u001b[0m\u001b[0;34m,\u001b[0m \u001b[0;34m'zone'\u001b[0m\u001b[0;34m,\u001b[0m \u001b[0;34m'type'\u001b[0m\u001b[0;34m,\u001b[0m \u001b[0;34m'inning_topbot'\u001b[0m\u001b[0;34m,\u001b[0m \u001b[0;34m'bb_type'\u001b[0m\u001b[0;34m,\u001b[0m \u001b[0;34m'away_team'\u001b[0m\u001b[0;34m,\u001b[0m \u001b[0;34m'home_team'\u001b[0m\u001b[0;34m,\u001b[0m \u001b[0;34m'p_throws'\u001b[0m\u001b[0;34m,\u001b[0m \u001b[0;34m'stand'\u001b[0m\u001b[0;34m,\u001b[0m \u001b[0;34m'game_type'\u001b[0m\u001b[0;34m,\u001b[0m \u001b[0;34m'des'\u001b[0m\u001b[0;34m,\u001b[0m \u001b[0;34m'description'\u001b[0m\u001b[0;34m,\u001b[0m \u001b[0;34m'events'\u001b[0m\u001b[0;34m,\u001b[0m \u001b[0;34m'player_name'\u001b[0m\u001b[0;34m,\u001b[0m \u001b[0;34m'game_date'\u001b[0m\u001b[0;34m,\u001b[0m \u001b[0;34m'pitch_type'\u001b[0m\u001b[0;34m,\u001b[0m \u001b[0;34m'pitch_name'\u001b[0m\u001b[0;34m]\u001b[0m\u001b[0;34m\u001b[0m\u001b[0m\n\u001b[1;32m    143\u001b[0m     \u001b[0mnumeric_cols\u001b[0m \u001b[0;34m=\u001b[0m \u001b[0;34m[\u001b[0m\u001b[0mcol\u001b[0m \u001b[0;32mfor\u001b[0m \u001b[0mcol\u001b[0m \u001b[0;32min\u001b[0m \u001b[0mdata\u001b[0m\u001b[0;34m.\u001b[0m\u001b[0mcolumns\u001b[0m \u001b[0;32mif\u001b[0m \u001b[0mcol\u001b[0m \u001b[0;32mnot\u001b[0m \u001b[0;32min\u001b[0m \u001b[0mnot_numeric\u001b[0m\u001b[0;34m]\u001b[0m\u001b[0;34m\u001b[0m\u001b[0m\n\u001b[0;32m--> 144\u001b[0;31m     \u001b[0mdata\u001b[0m\u001b[0;34m[\u001b[0m\u001b[0mnumeric_cols\u001b[0m\u001b[0;34m]\u001b[0m \u001b[0;34m=\u001b[0m \u001b[0mdata\u001b[0m\u001b[0;34m[\u001b[0m\u001b[0mnumeric_cols\u001b[0m\u001b[0;34m]\u001b[0m\u001b[0;34m.\u001b[0m\u001b[0mastype\u001b[0m\u001b[0;34m(\u001b[0m\u001b[0mfloat\u001b[0m\u001b[0;34m)\u001b[0m\u001b[0;34m\u001b[0m\u001b[0m\n\u001b[0m\u001b[1;32m    145\u001b[0m \u001b[0;34m\u001b[0m\u001b[0m\n\u001b[1;32m    146\u001b[0m     \u001b[0;31m# convert date col to datetime data type and sort so that this returns in an order that makes sense (by date and game)\u001b[0m\u001b[0;34m\u001b[0m\u001b[0;34m\u001b[0m\u001b[0m\n",
      "\u001b[0;32m~/anaconda3/lib/python3.6/site-packages/pandas/util/_decorators.py\u001b[0m in \u001b[0;36mwrapper\u001b[0;34m(*args, **kwargs)\u001b[0m\n\u001b[1;32m     89\u001b[0m                 \u001b[0;32melse\u001b[0m\u001b[0;34m:\u001b[0m\u001b[0;34m\u001b[0m\u001b[0m\n\u001b[1;32m     90\u001b[0m                     \u001b[0mkwargs\u001b[0m\u001b[0;34m[\u001b[0m\u001b[0mnew_arg_name\u001b[0m\u001b[0;34m]\u001b[0m \u001b[0;34m=\u001b[0m \u001b[0mnew_arg_value\u001b[0m\u001b[0;34m\u001b[0m\u001b[0m\n\u001b[0;32m---> 91\u001b[0;31m             \u001b[0;32mreturn\u001b[0m \u001b[0mfunc\u001b[0m\u001b[0;34m(\u001b[0m\u001b[0;34m*\u001b[0m\u001b[0margs\u001b[0m\u001b[0;34m,\u001b[0m \u001b[0;34m**\u001b[0m\u001b[0mkwargs\u001b[0m\u001b[0;34m)\u001b[0m\u001b[0;34m\u001b[0m\u001b[0m\n\u001b[0m\u001b[1;32m     92\u001b[0m         \u001b[0;32mreturn\u001b[0m \u001b[0mwrapper\u001b[0m\u001b[0;34m\u001b[0m\u001b[0m\n\u001b[1;32m     93\u001b[0m     \u001b[0;32mreturn\u001b[0m \u001b[0m_deprecate_kwarg\u001b[0m\u001b[0;34m\u001b[0m\u001b[0m\n",
      "\u001b[0;32m~/anaconda3/lib/python3.6/site-packages/pandas/core/generic.py\u001b[0m in \u001b[0;36mastype\u001b[0;34m(self, dtype, copy, errors, **kwargs)\u001b[0m\n\u001b[1;32m   3408\u001b[0m         \u001b[0;31m# else, only a single dtype is given\u001b[0m\u001b[0;34m\u001b[0m\u001b[0;34m\u001b[0m\u001b[0m\n\u001b[1;32m   3409\u001b[0m         new_data = self._data.astype(dtype=dtype, copy=copy, errors=errors,\n\u001b[0;32m-> 3410\u001b[0;31m                                      **kwargs)\n\u001b[0m\u001b[1;32m   3411\u001b[0m         \u001b[0;32mreturn\u001b[0m \u001b[0mself\u001b[0m\u001b[0;34m.\u001b[0m\u001b[0m_constructor\u001b[0m\u001b[0;34m(\u001b[0m\u001b[0mnew_data\u001b[0m\u001b[0;34m)\u001b[0m\u001b[0;34m.\u001b[0m\u001b[0m__finalize__\u001b[0m\u001b[0;34m(\u001b[0m\u001b[0mself\u001b[0m\u001b[0;34m)\u001b[0m\u001b[0;34m\u001b[0m\u001b[0m\n\u001b[1;32m   3412\u001b[0m \u001b[0;34m\u001b[0m\u001b[0m\n",
      "\u001b[0;32m~/anaconda3/lib/python3.6/site-packages/pandas/core/internals.py\u001b[0m in \u001b[0;36mastype\u001b[0;34m(self, dtype, **kwargs)\u001b[0m\n\u001b[1;32m   3222\u001b[0m \u001b[0;34m\u001b[0m\u001b[0m\n\u001b[1;32m   3223\u001b[0m     \u001b[0;32mdef\u001b[0m \u001b[0mastype\u001b[0m\u001b[0;34m(\u001b[0m\u001b[0mself\u001b[0m\u001b[0;34m,\u001b[0m \u001b[0mdtype\u001b[0m\u001b[0;34m,\u001b[0m \u001b[0;34m**\u001b[0m\u001b[0mkwargs\u001b[0m\u001b[0;34m)\u001b[0m\u001b[0;34m:\u001b[0m\u001b[0;34m\u001b[0m\u001b[0m\n\u001b[0;32m-> 3224\u001b[0;31m         \u001b[0;32mreturn\u001b[0m \u001b[0mself\u001b[0m\u001b[0;34m.\u001b[0m\u001b[0mapply\u001b[0m\u001b[0;34m(\u001b[0m\u001b[0;34m'astype'\u001b[0m\u001b[0;34m,\u001b[0m \u001b[0mdtype\u001b[0m\u001b[0;34m=\u001b[0m\u001b[0mdtype\u001b[0m\u001b[0;34m,\u001b[0m \u001b[0;34m**\u001b[0m\u001b[0mkwargs\u001b[0m\u001b[0;34m)\u001b[0m\u001b[0;34m\u001b[0m\u001b[0m\n\u001b[0m\u001b[1;32m   3225\u001b[0m \u001b[0;34m\u001b[0m\u001b[0m\n\u001b[1;32m   3226\u001b[0m     \u001b[0;32mdef\u001b[0m \u001b[0mconvert\u001b[0m\u001b[0;34m(\u001b[0m\u001b[0mself\u001b[0m\u001b[0;34m,\u001b[0m \u001b[0;34m**\u001b[0m\u001b[0mkwargs\u001b[0m\u001b[0;34m)\u001b[0m\u001b[0;34m:\u001b[0m\u001b[0;34m\u001b[0m\u001b[0m\n",
      "\u001b[0;32m~/anaconda3/lib/python3.6/site-packages/pandas/core/internals.py\u001b[0m in \u001b[0;36mapply\u001b[0;34m(self, f, axes, filter, do_integrity_check, consolidate, **kwargs)\u001b[0m\n\u001b[1;32m   3089\u001b[0m \u001b[0;34m\u001b[0m\u001b[0m\n\u001b[1;32m   3090\u001b[0m             \u001b[0mkwargs\u001b[0m\u001b[0;34m[\u001b[0m\u001b[0;34m'mgr'\u001b[0m\u001b[0;34m]\u001b[0m \u001b[0;34m=\u001b[0m \u001b[0mself\u001b[0m\u001b[0;34m\u001b[0m\u001b[0m\n\u001b[0;32m-> 3091\u001b[0;31m             \u001b[0mapplied\u001b[0m \u001b[0;34m=\u001b[0m \u001b[0mgetattr\u001b[0m\u001b[0;34m(\u001b[0m\u001b[0mb\u001b[0m\u001b[0;34m,\u001b[0m \u001b[0mf\u001b[0m\u001b[0;34m)\u001b[0m\u001b[0;34m(\u001b[0m\u001b[0;34m**\u001b[0m\u001b[0mkwargs\u001b[0m\u001b[0;34m)\u001b[0m\u001b[0;34m\u001b[0m\u001b[0m\n\u001b[0m\u001b[1;32m   3092\u001b[0m             \u001b[0mresult_blocks\u001b[0m \u001b[0;34m=\u001b[0m \u001b[0m_extend_blocks\u001b[0m\u001b[0;34m(\u001b[0m\u001b[0mapplied\u001b[0m\u001b[0;34m,\u001b[0m \u001b[0mresult_blocks\u001b[0m\u001b[0;34m)\u001b[0m\u001b[0;34m\u001b[0m\u001b[0m\n\u001b[1;32m   3093\u001b[0m \u001b[0;34m\u001b[0m\u001b[0m\n",
      "\u001b[0;32m~/anaconda3/lib/python3.6/site-packages/pandas/core/internals.py\u001b[0m in \u001b[0;36mastype\u001b[0;34m(self, dtype, copy, errors, values, **kwargs)\u001b[0m\n\u001b[1;32m    469\u001b[0m     \u001b[0;32mdef\u001b[0m \u001b[0mastype\u001b[0m\u001b[0;34m(\u001b[0m\u001b[0mself\u001b[0m\u001b[0;34m,\u001b[0m \u001b[0mdtype\u001b[0m\u001b[0;34m,\u001b[0m \u001b[0mcopy\u001b[0m\u001b[0;34m=\u001b[0m\u001b[0;32mFalse\u001b[0m\u001b[0;34m,\u001b[0m \u001b[0merrors\u001b[0m\u001b[0;34m=\u001b[0m\u001b[0;34m'raise'\u001b[0m\u001b[0;34m,\u001b[0m \u001b[0mvalues\u001b[0m\u001b[0;34m=\u001b[0m\u001b[0;32mNone\u001b[0m\u001b[0;34m,\u001b[0m \u001b[0;34m**\u001b[0m\u001b[0mkwargs\u001b[0m\u001b[0;34m)\u001b[0m\u001b[0;34m:\u001b[0m\u001b[0;34m\u001b[0m\u001b[0m\n\u001b[1;32m    470\u001b[0m         return self._astype(dtype, copy=copy, errors=errors, values=values,\n\u001b[0;32m--> 471\u001b[0;31m                             **kwargs)\n\u001b[0m\u001b[1;32m    472\u001b[0m \u001b[0;34m\u001b[0m\u001b[0m\n\u001b[1;32m    473\u001b[0m     def _astype(self, dtype, copy=False, errors='raise', values=None,\n",
      "\u001b[0;32m~/anaconda3/lib/python3.6/site-packages/pandas/core/internals.py\u001b[0m in \u001b[0;36m_astype\u001b[0;34m(self, dtype, copy, errors, values, klass, mgr, raise_on_error, **kwargs)\u001b[0m\n\u001b[1;32m    519\u001b[0m \u001b[0;34m\u001b[0m\u001b[0m\n\u001b[1;32m    520\u001b[0m                 \u001b[0;31m# _astype_nansafe works fine with 1-d only\u001b[0m\u001b[0;34m\u001b[0m\u001b[0;34m\u001b[0m\u001b[0m\n\u001b[0;32m--> 521\u001b[0;31m                 \u001b[0mvalues\u001b[0m \u001b[0;34m=\u001b[0m \u001b[0mastype_nansafe\u001b[0m\u001b[0;34m(\u001b[0m\u001b[0mvalues\u001b[0m\u001b[0;34m.\u001b[0m\u001b[0mravel\u001b[0m\u001b[0;34m(\u001b[0m\u001b[0;34m)\u001b[0m\u001b[0;34m,\u001b[0m \u001b[0mdtype\u001b[0m\u001b[0;34m,\u001b[0m \u001b[0mcopy\u001b[0m\u001b[0;34m=\u001b[0m\u001b[0;32mTrue\u001b[0m\u001b[0;34m)\u001b[0m\u001b[0;34m\u001b[0m\u001b[0m\n\u001b[0m\u001b[1;32m    522\u001b[0m                 \u001b[0mvalues\u001b[0m \u001b[0;34m=\u001b[0m \u001b[0mvalues\u001b[0m\u001b[0;34m.\u001b[0m\u001b[0mreshape\u001b[0m\u001b[0;34m(\u001b[0m\u001b[0mself\u001b[0m\u001b[0;34m.\u001b[0m\u001b[0mshape\u001b[0m\u001b[0;34m)\u001b[0m\u001b[0;34m\u001b[0m\u001b[0m\n\u001b[1;32m    523\u001b[0m \u001b[0;34m\u001b[0m\u001b[0m\n",
      "\u001b[0;32m~/anaconda3/lib/python3.6/site-packages/pandas/core/dtypes/cast.py\u001b[0m in \u001b[0;36mastype_nansafe\u001b[0;34m(arr, dtype, copy)\u001b[0m\n\u001b[1;32m    634\u001b[0m \u001b[0;34m\u001b[0m\u001b[0m\n\u001b[1;32m    635\u001b[0m     \u001b[0;32mif\u001b[0m \u001b[0mcopy\u001b[0m\u001b[0;34m:\u001b[0m\u001b[0;34m\u001b[0m\u001b[0m\n\u001b[0;32m--> 636\u001b[0;31m         \u001b[0;32mreturn\u001b[0m \u001b[0marr\u001b[0m\u001b[0;34m.\u001b[0m\u001b[0mastype\u001b[0m\u001b[0;34m(\u001b[0m\u001b[0mdtype\u001b[0m\u001b[0;34m)\u001b[0m\u001b[0;34m\u001b[0m\u001b[0m\n\u001b[0m\u001b[1;32m    637\u001b[0m     \u001b[0;32mreturn\u001b[0m \u001b[0marr\u001b[0m\u001b[0;34m.\u001b[0m\u001b[0mview\u001b[0m\u001b[0;34m(\u001b[0m\u001b[0mdtype\u001b[0m\u001b[0;34m)\u001b[0m\u001b[0;34m\u001b[0m\u001b[0m\n\u001b[1;32m    638\u001b[0m \u001b[0;34m\u001b[0m\u001b[0m\n",
      "\u001b[0;31mValueError\u001b[0m: could not convert string to float: 'Standard'"
     ]
    }
   ],
   "source": [
    "data = statcast_single_game(529406)"
   ]
  },
  {
   "cell_type": "code",
   "execution_count": 4,
   "metadata": {},
   "outputs": [
    {
     "name": "stdout",
     "output_type": "stream",
     "text": [
      "This is a large query, it may take a moment to complete\n",
      "Completed sub-query from 2018-04-01 to 2018-04-06\n",
      "Completed sub-query from 2018-04-07 to 2018-04-10\n"
     ]
    },
    {
     "ename": "ValueError",
     "evalue": "could not convert string to float: 'Standard'",
     "output_type": "error",
     "traceback": [
      "\u001b[0;31m---------------------------------------------------------------------------\u001b[0m",
      "\u001b[0;31mValueError\u001b[0m                                Traceback (most recent call last)",
      "\u001b[0;32m<ipython-input-4-5e2c01c0b917>\u001b[0m in \u001b[0;36m<module>\u001b[0;34m()\u001b[0m\n\u001b[1;32m      2\u001b[0m \u001b[0;34m\u001b[0m\u001b[0m\n\u001b[1;32m      3\u001b[0m \u001b[0mdata1\u001b[0m \u001b[0;34m=\u001b[0m \u001b[0;34m[\u001b[0m\u001b[0;34m]\u001b[0m\u001b[0;34m\u001b[0m\u001b[0m\n\u001b[0;32m----> 4\u001b[0;31m \u001b[0;32mfor\u001b[0m \u001b[0mx\u001b[0m \u001b[0;32min\u001b[0m \u001b[0mstatcast\u001b[0m\u001b[0;34m(\u001b[0m\u001b[0;34m'2018-04-01'\u001b[0m\u001b[0;34m,\u001b[0m \u001b[0;34m'2018-04-10'\u001b[0m \u001b[0;34m)\u001b[0m\u001b[0;34m[\u001b[0m\u001b[0mi\u001b[0m\u001b[0;34m]\u001b[0m\u001b[0;34m:\u001b[0m\u001b[0;34m\u001b[0m\u001b[0m\n\u001b[0m\u001b[1;32m      5\u001b[0m     \u001b[0;32mtry\u001b[0m\u001b[0;34m:\u001b[0m\u001b[0;34m\u001b[0m\u001b[0m\n\u001b[1;32m      6\u001b[0m         \u001b[0mvalue\u001b[0m \u001b[0;34m=\u001b[0m \u001b[0mfloat\u001b[0m\u001b[0;34m(\u001b[0m\u001b[0mx\u001b[0m\u001b[0;34m)\u001b[0m\u001b[0;34m\u001b[0m\u001b[0m\n",
      "\u001b[0;32m~/anaconda3/lib/python3.6/site-packages/pybaseball/statcast.py\u001b[0m in \u001b[0;36mstatcast\u001b[0;34m(start_dt, end_dt, team, verbose)\u001b[0m\n\u001b[1;32m    190\u001b[0m             \u001b[0mdata\u001b[0m \u001b[0;34m=\u001b[0m \u001b[0mlarge_request\u001b[0m\u001b[0;34m(\u001b[0m\u001b[0mstart_dt\u001b[0m\u001b[0;34m,\u001b[0m\u001b[0mend_dt\u001b[0m\u001b[0;34m,\u001b[0m\u001b[0md1\u001b[0m\u001b[0;34m,\u001b[0m\u001b[0md2\u001b[0m\u001b[0;34m,\u001b[0m\u001b[0mstep\u001b[0m\u001b[0;34m=\u001b[0m\u001b[0msmall_query_threshold\u001b[0m\u001b[0;34m,\u001b[0m\u001b[0mverbose\u001b[0m\u001b[0;34m=\u001b[0m\u001b[0mverbose\u001b[0m\u001b[0;34m)\u001b[0m\u001b[0;34m\u001b[0m\u001b[0m\n\u001b[1;32m    191\u001b[0m         \u001b[0;31m# clean up data types, 'null' to np.NaN, subset to team if requested\u001b[0m\u001b[0;34m\u001b[0m\u001b[0;34m\u001b[0m\u001b[0m\n\u001b[0;32m--> 192\u001b[0;31m         \u001b[0mdata\u001b[0m \u001b[0;34m=\u001b[0m \u001b[0mpostprocessing\u001b[0m\u001b[0;34m(\u001b[0m\u001b[0mdata\u001b[0m\u001b[0;34m,\u001b[0m \u001b[0mteam\u001b[0m\u001b[0;34m)\u001b[0m\u001b[0;34m\u001b[0m\u001b[0m\n\u001b[0m\u001b[1;32m    193\u001b[0m         \u001b[0;32mreturn\u001b[0m \u001b[0mdata\u001b[0m\u001b[0;34m\u001b[0m\u001b[0m\n\u001b[1;32m    194\u001b[0m \u001b[0;34m\u001b[0m\u001b[0m\n",
      "\u001b[0;32m~/anaconda3/lib/python3.6/site-packages/pybaseball/statcast.py\u001b[0m in \u001b[0;36mpostprocessing\u001b[0;34m(data, team)\u001b[0m\n\u001b[1;32m    142\u001b[0m     \u001b[0mnot_numeric\u001b[0m \u001b[0;34m=\u001b[0m \u001b[0;34m[\u001b[0m\u001b[0;34m'sv_id'\u001b[0m\u001b[0;34m,\u001b[0m \u001b[0;34m'umpire'\u001b[0m\u001b[0;34m,\u001b[0m \u001b[0;34m'zone'\u001b[0m\u001b[0;34m,\u001b[0m \u001b[0;34m'type'\u001b[0m\u001b[0;34m,\u001b[0m \u001b[0;34m'inning_topbot'\u001b[0m\u001b[0;34m,\u001b[0m \u001b[0;34m'bb_type'\u001b[0m\u001b[0;34m,\u001b[0m \u001b[0;34m'away_team'\u001b[0m\u001b[0;34m,\u001b[0m \u001b[0;34m'home_team'\u001b[0m\u001b[0;34m,\u001b[0m \u001b[0;34m'p_throws'\u001b[0m\u001b[0;34m,\u001b[0m \u001b[0;34m'stand'\u001b[0m\u001b[0;34m,\u001b[0m \u001b[0;34m'game_type'\u001b[0m\u001b[0;34m,\u001b[0m \u001b[0;34m'des'\u001b[0m\u001b[0;34m,\u001b[0m \u001b[0;34m'description'\u001b[0m\u001b[0;34m,\u001b[0m \u001b[0;34m'events'\u001b[0m\u001b[0;34m,\u001b[0m \u001b[0;34m'player_name'\u001b[0m\u001b[0;34m,\u001b[0m \u001b[0;34m'game_date'\u001b[0m\u001b[0;34m,\u001b[0m \u001b[0;34m'pitch_type'\u001b[0m\u001b[0;34m,\u001b[0m \u001b[0;34m'pitch_name'\u001b[0m\u001b[0;34m]\u001b[0m\u001b[0;34m\u001b[0m\u001b[0m\n\u001b[1;32m    143\u001b[0m     \u001b[0mnumeric_cols\u001b[0m \u001b[0;34m=\u001b[0m \u001b[0;34m[\u001b[0m\u001b[0mcol\u001b[0m \u001b[0;32mfor\u001b[0m \u001b[0mcol\u001b[0m \u001b[0;32min\u001b[0m \u001b[0mdata\u001b[0m\u001b[0;34m.\u001b[0m\u001b[0mcolumns\u001b[0m \u001b[0;32mif\u001b[0m \u001b[0mcol\u001b[0m \u001b[0;32mnot\u001b[0m \u001b[0;32min\u001b[0m \u001b[0mnot_numeric\u001b[0m\u001b[0;34m]\u001b[0m\u001b[0;34m\u001b[0m\u001b[0m\n\u001b[0;32m--> 144\u001b[0;31m     \u001b[0mdata\u001b[0m\u001b[0;34m[\u001b[0m\u001b[0mnumeric_cols\u001b[0m\u001b[0;34m]\u001b[0m \u001b[0;34m=\u001b[0m \u001b[0mdata\u001b[0m\u001b[0;34m[\u001b[0m\u001b[0mnumeric_cols\u001b[0m\u001b[0;34m]\u001b[0m\u001b[0;34m.\u001b[0m\u001b[0mastype\u001b[0m\u001b[0;34m(\u001b[0m\u001b[0mfloat\u001b[0m\u001b[0;34m)\u001b[0m\u001b[0;34m\u001b[0m\u001b[0m\n\u001b[0m\u001b[1;32m    145\u001b[0m \u001b[0;34m\u001b[0m\u001b[0m\n\u001b[1;32m    146\u001b[0m     \u001b[0;31m# convert date col to datetime data type and sort so that this returns in an order that makes sense (by date and game)\u001b[0m\u001b[0;34m\u001b[0m\u001b[0;34m\u001b[0m\u001b[0m\n",
      "\u001b[0;32m~/anaconda3/lib/python3.6/site-packages/pandas/util/_decorators.py\u001b[0m in \u001b[0;36mwrapper\u001b[0;34m(*args, **kwargs)\u001b[0m\n\u001b[1;32m     89\u001b[0m                 \u001b[0;32melse\u001b[0m\u001b[0;34m:\u001b[0m\u001b[0;34m\u001b[0m\u001b[0m\n\u001b[1;32m     90\u001b[0m                     \u001b[0mkwargs\u001b[0m\u001b[0;34m[\u001b[0m\u001b[0mnew_arg_name\u001b[0m\u001b[0;34m]\u001b[0m \u001b[0;34m=\u001b[0m \u001b[0mnew_arg_value\u001b[0m\u001b[0;34m\u001b[0m\u001b[0m\n\u001b[0;32m---> 91\u001b[0;31m             \u001b[0;32mreturn\u001b[0m \u001b[0mfunc\u001b[0m\u001b[0;34m(\u001b[0m\u001b[0;34m*\u001b[0m\u001b[0margs\u001b[0m\u001b[0;34m,\u001b[0m \u001b[0;34m**\u001b[0m\u001b[0mkwargs\u001b[0m\u001b[0;34m)\u001b[0m\u001b[0;34m\u001b[0m\u001b[0m\n\u001b[0m\u001b[1;32m     92\u001b[0m         \u001b[0;32mreturn\u001b[0m \u001b[0mwrapper\u001b[0m\u001b[0;34m\u001b[0m\u001b[0m\n\u001b[1;32m     93\u001b[0m     \u001b[0;32mreturn\u001b[0m \u001b[0m_deprecate_kwarg\u001b[0m\u001b[0;34m\u001b[0m\u001b[0m\n",
      "\u001b[0;32m~/anaconda3/lib/python3.6/site-packages/pandas/core/generic.py\u001b[0m in \u001b[0;36mastype\u001b[0;34m(self, dtype, copy, errors, **kwargs)\u001b[0m\n\u001b[1;32m   3408\u001b[0m         \u001b[0;31m# else, only a single dtype is given\u001b[0m\u001b[0;34m\u001b[0m\u001b[0;34m\u001b[0m\u001b[0m\n\u001b[1;32m   3409\u001b[0m         new_data = self._data.astype(dtype=dtype, copy=copy, errors=errors,\n\u001b[0;32m-> 3410\u001b[0;31m                                      **kwargs)\n\u001b[0m\u001b[1;32m   3411\u001b[0m         \u001b[0;32mreturn\u001b[0m \u001b[0mself\u001b[0m\u001b[0;34m.\u001b[0m\u001b[0m_constructor\u001b[0m\u001b[0;34m(\u001b[0m\u001b[0mnew_data\u001b[0m\u001b[0;34m)\u001b[0m\u001b[0;34m.\u001b[0m\u001b[0m__finalize__\u001b[0m\u001b[0;34m(\u001b[0m\u001b[0mself\u001b[0m\u001b[0;34m)\u001b[0m\u001b[0;34m\u001b[0m\u001b[0m\n\u001b[1;32m   3412\u001b[0m \u001b[0;34m\u001b[0m\u001b[0m\n",
      "\u001b[0;32m~/anaconda3/lib/python3.6/site-packages/pandas/core/internals.py\u001b[0m in \u001b[0;36mastype\u001b[0;34m(self, dtype, **kwargs)\u001b[0m\n\u001b[1;32m   3222\u001b[0m \u001b[0;34m\u001b[0m\u001b[0m\n\u001b[1;32m   3223\u001b[0m     \u001b[0;32mdef\u001b[0m \u001b[0mastype\u001b[0m\u001b[0;34m(\u001b[0m\u001b[0mself\u001b[0m\u001b[0;34m,\u001b[0m \u001b[0mdtype\u001b[0m\u001b[0;34m,\u001b[0m \u001b[0;34m**\u001b[0m\u001b[0mkwargs\u001b[0m\u001b[0;34m)\u001b[0m\u001b[0;34m:\u001b[0m\u001b[0;34m\u001b[0m\u001b[0m\n\u001b[0;32m-> 3224\u001b[0;31m         \u001b[0;32mreturn\u001b[0m \u001b[0mself\u001b[0m\u001b[0;34m.\u001b[0m\u001b[0mapply\u001b[0m\u001b[0;34m(\u001b[0m\u001b[0;34m'astype'\u001b[0m\u001b[0;34m,\u001b[0m \u001b[0mdtype\u001b[0m\u001b[0;34m=\u001b[0m\u001b[0mdtype\u001b[0m\u001b[0;34m,\u001b[0m \u001b[0;34m**\u001b[0m\u001b[0mkwargs\u001b[0m\u001b[0;34m)\u001b[0m\u001b[0;34m\u001b[0m\u001b[0m\n\u001b[0m\u001b[1;32m   3225\u001b[0m \u001b[0;34m\u001b[0m\u001b[0m\n\u001b[1;32m   3226\u001b[0m     \u001b[0;32mdef\u001b[0m \u001b[0mconvert\u001b[0m\u001b[0;34m(\u001b[0m\u001b[0mself\u001b[0m\u001b[0;34m,\u001b[0m \u001b[0;34m**\u001b[0m\u001b[0mkwargs\u001b[0m\u001b[0;34m)\u001b[0m\u001b[0;34m:\u001b[0m\u001b[0;34m\u001b[0m\u001b[0m\n",
      "\u001b[0;32m~/anaconda3/lib/python3.6/site-packages/pandas/core/internals.py\u001b[0m in \u001b[0;36mapply\u001b[0;34m(self, f, axes, filter, do_integrity_check, consolidate, **kwargs)\u001b[0m\n\u001b[1;32m   3089\u001b[0m \u001b[0;34m\u001b[0m\u001b[0m\n\u001b[1;32m   3090\u001b[0m             \u001b[0mkwargs\u001b[0m\u001b[0;34m[\u001b[0m\u001b[0;34m'mgr'\u001b[0m\u001b[0;34m]\u001b[0m \u001b[0;34m=\u001b[0m \u001b[0mself\u001b[0m\u001b[0;34m\u001b[0m\u001b[0m\n\u001b[0;32m-> 3091\u001b[0;31m             \u001b[0mapplied\u001b[0m \u001b[0;34m=\u001b[0m \u001b[0mgetattr\u001b[0m\u001b[0;34m(\u001b[0m\u001b[0mb\u001b[0m\u001b[0;34m,\u001b[0m \u001b[0mf\u001b[0m\u001b[0;34m)\u001b[0m\u001b[0;34m(\u001b[0m\u001b[0;34m**\u001b[0m\u001b[0mkwargs\u001b[0m\u001b[0;34m)\u001b[0m\u001b[0;34m\u001b[0m\u001b[0m\n\u001b[0m\u001b[1;32m   3092\u001b[0m             \u001b[0mresult_blocks\u001b[0m \u001b[0;34m=\u001b[0m \u001b[0m_extend_blocks\u001b[0m\u001b[0;34m(\u001b[0m\u001b[0mapplied\u001b[0m\u001b[0;34m,\u001b[0m \u001b[0mresult_blocks\u001b[0m\u001b[0;34m)\u001b[0m\u001b[0;34m\u001b[0m\u001b[0m\n\u001b[1;32m   3093\u001b[0m \u001b[0;34m\u001b[0m\u001b[0m\n",
      "\u001b[0;32m~/anaconda3/lib/python3.6/site-packages/pandas/core/internals.py\u001b[0m in \u001b[0;36mastype\u001b[0;34m(self, dtype, copy, errors, values, **kwargs)\u001b[0m\n\u001b[1;32m    469\u001b[0m     \u001b[0;32mdef\u001b[0m \u001b[0mastype\u001b[0m\u001b[0;34m(\u001b[0m\u001b[0mself\u001b[0m\u001b[0;34m,\u001b[0m \u001b[0mdtype\u001b[0m\u001b[0;34m,\u001b[0m \u001b[0mcopy\u001b[0m\u001b[0;34m=\u001b[0m\u001b[0;32mFalse\u001b[0m\u001b[0;34m,\u001b[0m \u001b[0merrors\u001b[0m\u001b[0;34m=\u001b[0m\u001b[0;34m'raise'\u001b[0m\u001b[0;34m,\u001b[0m \u001b[0mvalues\u001b[0m\u001b[0;34m=\u001b[0m\u001b[0;32mNone\u001b[0m\u001b[0;34m,\u001b[0m \u001b[0;34m**\u001b[0m\u001b[0mkwargs\u001b[0m\u001b[0;34m)\u001b[0m\u001b[0;34m:\u001b[0m\u001b[0;34m\u001b[0m\u001b[0m\n\u001b[1;32m    470\u001b[0m         return self._astype(dtype, copy=copy, errors=errors, values=values,\n\u001b[0;32m--> 471\u001b[0;31m                             **kwargs)\n\u001b[0m\u001b[1;32m    472\u001b[0m \u001b[0;34m\u001b[0m\u001b[0m\n\u001b[1;32m    473\u001b[0m     def _astype(self, dtype, copy=False, errors='raise', values=None,\n",
      "\u001b[0;32m~/anaconda3/lib/python3.6/site-packages/pandas/core/internals.py\u001b[0m in \u001b[0;36m_astype\u001b[0;34m(self, dtype, copy, errors, values, klass, mgr, raise_on_error, **kwargs)\u001b[0m\n\u001b[1;32m    519\u001b[0m \u001b[0;34m\u001b[0m\u001b[0m\n\u001b[1;32m    520\u001b[0m                 \u001b[0;31m# _astype_nansafe works fine with 1-d only\u001b[0m\u001b[0;34m\u001b[0m\u001b[0;34m\u001b[0m\u001b[0m\n\u001b[0;32m--> 521\u001b[0;31m                 \u001b[0mvalues\u001b[0m \u001b[0;34m=\u001b[0m \u001b[0mastype_nansafe\u001b[0m\u001b[0;34m(\u001b[0m\u001b[0mvalues\u001b[0m\u001b[0;34m.\u001b[0m\u001b[0mravel\u001b[0m\u001b[0;34m(\u001b[0m\u001b[0;34m)\u001b[0m\u001b[0;34m,\u001b[0m \u001b[0mdtype\u001b[0m\u001b[0;34m,\u001b[0m \u001b[0mcopy\u001b[0m\u001b[0;34m=\u001b[0m\u001b[0;32mTrue\u001b[0m\u001b[0;34m)\u001b[0m\u001b[0;34m\u001b[0m\u001b[0m\n\u001b[0m\u001b[1;32m    522\u001b[0m                 \u001b[0mvalues\u001b[0m \u001b[0;34m=\u001b[0m \u001b[0mvalues\u001b[0m\u001b[0;34m.\u001b[0m\u001b[0mreshape\u001b[0m\u001b[0;34m(\u001b[0m\u001b[0mself\u001b[0m\u001b[0;34m.\u001b[0m\u001b[0mshape\u001b[0m\u001b[0;34m)\u001b[0m\u001b[0;34m\u001b[0m\u001b[0m\n\u001b[1;32m    523\u001b[0m \u001b[0;34m\u001b[0m\u001b[0m\n",
      "\u001b[0;32m~/anaconda3/lib/python3.6/site-packages/pandas/core/dtypes/cast.py\u001b[0m in \u001b[0;36mastype_nansafe\u001b[0;34m(arr, dtype, copy)\u001b[0m\n\u001b[1;32m    634\u001b[0m \u001b[0;34m\u001b[0m\u001b[0m\n\u001b[1;32m    635\u001b[0m     \u001b[0;32mif\u001b[0m \u001b[0mcopy\u001b[0m\u001b[0;34m:\u001b[0m\u001b[0;34m\u001b[0m\u001b[0m\n\u001b[0;32m--> 636\u001b[0;31m         \u001b[0;32mreturn\u001b[0m \u001b[0marr\u001b[0m\u001b[0;34m.\u001b[0m\u001b[0mastype\u001b[0m\u001b[0;34m(\u001b[0m\u001b[0mdtype\u001b[0m\u001b[0;34m)\u001b[0m\u001b[0;34m\u001b[0m\u001b[0m\n\u001b[0m\u001b[1;32m    637\u001b[0m     \u001b[0;32mreturn\u001b[0m \u001b[0marr\u001b[0m\u001b[0;34m.\u001b[0m\u001b[0mview\u001b[0m\u001b[0;34m(\u001b[0m\u001b[0mdtype\u001b[0m\u001b[0;34m)\u001b[0m\u001b[0;34m\u001b[0m\u001b[0m\n\u001b[1;32m    638\u001b[0m \u001b[0;34m\u001b[0m\u001b[0m\n",
      "\u001b[0;31mValueError\u001b[0m: could not convert string to float: 'Standard'"
     ]
    }
   ],
   "source": [
    "# data1 = statcast('2018-04-01', '2018-04-10' )\n",
    "\n",
    "data1 = statcast('2018-04-01', '2018-04-10')"
   ]
  },
  {
   "cell_type": "code",
   "execution_count": 3,
   "metadata": {},
   "outputs": [
    {
     "ename": "NameError",
     "evalue": "name 'data' is not defined",
     "output_type": "error",
     "traceback": [
      "\u001b[0;31m---------------------------------------------------------------------------\u001b[0m",
      "\u001b[0;31mNameError\u001b[0m                                 Traceback (most recent call last)",
      "\u001b[0;32m<ipython-input-3-377c1575bd29>\u001b[0m in \u001b[0;36m<module>\u001b[0;34m()\u001b[0m\n\u001b[1;32m      1\u001b[0m \u001b[0;31m# drop rows where the data we need is missing\u001b[0m\u001b[0;34m\u001b[0m\u001b[0;34m\u001b[0m\u001b[0m\n\u001b[1;32m      2\u001b[0m \u001b[0mpd\u001b[0m\u001b[0;34m.\u001b[0m\u001b[0moptions\u001b[0m\u001b[0;34m.\u001b[0m\u001b[0mmode\u001b[0m\u001b[0;34m.\u001b[0m\u001b[0mchained_assignment\u001b[0m \u001b[0;34m=\u001b[0m \u001b[0;32mNone\u001b[0m\u001b[0;34m\u001b[0m\u001b[0m\n\u001b[0;32m----> 3\u001b[0;31m \u001b[0mdata2\u001b[0m \u001b[0;34m=\u001b[0m \u001b[0mdata\u001b[0m\u001b[0;34m[\u001b[0m\u001b[0mpd\u001b[0m\u001b[0;34m.\u001b[0m\u001b[0mnotnull\u001b[0m\u001b[0;34m(\u001b[0m\u001b[0mdata\u001b[0m\u001b[0;34m[\u001b[0m\u001b[0;34m'launch_angle'\u001b[0m\u001b[0;34m]\u001b[0m\u001b[0;34m)\u001b[0m\u001b[0;34m]\u001b[0m\u001b[0;34m\u001b[0m\u001b[0m\n\u001b[0m\u001b[1;32m      4\u001b[0m \u001b[0mdata2\u001b[0m \u001b[0;34m=\u001b[0m \u001b[0mdata2\u001b[0m\u001b[0;34m[\u001b[0m\u001b[0mpd\u001b[0m\u001b[0;34m.\u001b[0m\u001b[0mnotnull\u001b[0m\u001b[0;34m(\u001b[0m\u001b[0mdata\u001b[0m\u001b[0;34m[\u001b[0m\u001b[0;34m'launch_speed'\u001b[0m\u001b[0;34m]\u001b[0m\u001b[0;34m)\u001b[0m\u001b[0;34m]\u001b[0m\u001b[0;34m\u001b[0m\u001b[0m\n\u001b[1;32m      5\u001b[0m \u001b[0mdata2\u001b[0m \u001b[0;34m=\u001b[0m \u001b[0mdata2\u001b[0m\u001b[0;34m[\u001b[0m\u001b[0mpd\u001b[0m\u001b[0;34m.\u001b[0m\u001b[0mnotnull\u001b[0m\u001b[0;34m(\u001b[0m\u001b[0mdata\u001b[0m\u001b[0;34m[\u001b[0m\u001b[0;34m'estimated_ba_using_speedangle'\u001b[0m\u001b[0;34m]\u001b[0m\u001b[0;34m)\u001b[0m\u001b[0;34m]\u001b[0m\u001b[0;34m\u001b[0m\u001b[0m\n",
      "\u001b[0;31mNameError\u001b[0m: name 'data' is not defined"
     ]
    }
   ],
   "source": [
    "# drop rows where the data we need is missing\n",
    "pd.options.mode.chained_assignment = None\n",
    "data2 = data[pd.notnull(data['launch_angle'])]\n",
    "data2 = data2[pd.notnull(data['launch_speed'])]\n",
    "data2 = data2[pd.notnull(data['estimated_ba_using_speedangle'])]\n",
    "data2 = data2[pd.notnull(data['estimated_woba_using_speedangle'])]\n",
    "data2 = data2[pd.notnull(data['pitch_type'])]\n",
    "list(data)"
   ]
  },
  {
   "cell_type": "code",
   "execution_count": null,
   "metadata": {
    "collapsed": true
   },
   "outputs": [],
   "source": [
    "plt.scatter(data2['launch_speed'], data2['launch_angle'], c=data2['estimated_ba_using_speedangle'])\n",
    "plt.xlabel('Exit Velocity', fontsize=14)\n",
    "plt.ylabel('Launch Angle', fontsize=14)\n",
    "plt.colorbar().set_label('Hit Probability', rotation=270)\n",
    "plt.xlim(20, 140)\n",
    "plt.ylim(-25, 100)\n",
    "plt.title(\"Hit probability by Launch Angle and Exit Velocity\");"
   ]
  },
  {
   "cell_type": "code",
   "execution_count": null,
   "metadata": {
    "collapsed": true
   },
   "outputs": [],
   "source": [
    "plt.scatter(data2['launch_speed'], data2['launch_angle'], c=data2['estimated_woba_using_speedangle'])\n",
    "plt.xlabel('Exit Velocity', fontsize=14)\n",
    "plt.ylabel('Launch Angle', fontsize=14)\n",
    "plt.colorbar().set_label('wOBA Estimate', rotation=270)\n",
    "plt.xlim(20, 140)\n",
    "plt.ylim(-25, 100)\n",
    "plt.title(\"wOBA Estimate by Launch Angle and Exit Velocity\");"
   ]
  },
  {
   "cell_type": "code",
   "execution_count": null,
   "metadata": {
    "collapsed": true
   },
   "outputs": [],
   "source": [
    "# now just the home runs \n",
    "data2['hr'] = 0\n",
    "data2.loc[data2['events'] == 'home_run', 'hr'] = 1\n",
    "data3 = data2.loc[data2['hr'] ==1]\n",
    "data3.shape"
   ]
  },
  {
   "cell_type": "code",
   "execution_count": null,
   "metadata": {
    "collapsed": true
   },
   "outputs": [],
   "source": [
    "plt.scatter(data3['launch_speed'], data3['launch_angle'],c='red')\n",
    "plt.xlabel('Exit Velocity', fontsize=14)\n",
    "plt.ylabel('Launch Angle', fontsize=14)\n",
    "plt.xlim(20, 140)\n",
    "plt.ylim(-25, 100)\n",
    "plt.title(\"Home Runs by Launch Angle and Exit Velocity\");"
   ]
  },
  {
   "cell_type": "code",
   "execution_count": null,
   "metadata": {
    "collapsed": true
   },
   "outputs": [],
   "source": [
    "#create launch speed bins\n",
    "bins = np.linspace(data2.launch_speed.min(), data2.launch_speed.max(), 5)\n",
    "groups = data2.groupby(np.digitize(data2.launch_speed, bins))\n",
    "\n",
    "# take alook at how various features vary with launch speed\n",
    "print(groups)"
   ]
  },
  {
   "cell_type": "code",
   "execution_count": null,
   "metadata": {
    "collapsed": true
   },
   "outputs": [],
   "source": [
    "# re-bin with a value more useful for plotting\n",
    "bins = np.linspace(data2.launch_speed.min(), data2.launch_speed.max(), 30)\n",
    "groups = data2.groupby(np.digitize(data2.launch_speed, bins))\n",
    "bin_woba = groups['estimated_woba_using_speedangle'].mean()"
   ]
  },
  {
   "cell_type": "code",
   "execution_count": null,
   "metadata": {
    "collapsed": true
   },
   "outputs": [],
   "source": [
    "plt.plot(bins,bin_woba)\n",
    "plt.xlabel('Launch Angle', fontsize=14)\n",
    "plt.ylabel('Expected wOBA Value', fontsize=14)\n",
    "plt.xlim(40,120)"
   ]
  },
  {
   "cell_type": "code",
   "execution_count": null,
   "metadata": {
    "collapsed": true
   },
   "outputs": [],
   "source": []
  }
 ],
 "metadata": {
  "kernelspec": {
   "display_name": "Python 3",
   "language": "python",
   "name": "python3"
  },
  "language_info": {
   "codemirror_mode": {
    "name": "ipython",
    "version": 3
   },
   "file_extension": ".py",
   "mimetype": "text/x-python",
   "name": "python",
   "nbconvert_exporter": "python",
   "pygments_lexer": "ipython3",
   "version": "3.6.3"
  }
 },
 "nbformat": 4,
 "nbformat_minor": 2
}
