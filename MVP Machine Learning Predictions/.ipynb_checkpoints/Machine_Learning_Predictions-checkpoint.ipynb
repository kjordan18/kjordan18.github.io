{
 "cells": [
  {
   "cell_type": "code",
   "execution_count": 1,
   "metadata": {
    "collapsed": true
   },
   "outputs": [],
   "source": [
    "# Dependencies\n",
    "\n",
    "import pandas as pd\n",
    "import numpy as np\n",
    "import matplotlib.pyplot as plt\n",
    "import math\n",
    "import os\n",
    "import sklearn\n",
    "import sklearn.datasets\n",
    "from sklearn.datasets import make_regression\n",
    "from sklearn.ensemble import GradientBoostingClassifier\n",
    "np.set_printoptions(threshold=np.inf)"
   ]
  },
  {
   "cell_type": "code",
   "execution_count": 2,
   "metadata": {
    "collapsed": true
   },
   "outputs": [],
   "source": [
    "# read in train and test data\n",
    "train = pd.read_csv(\"data/training_data.csv\")\n",
    "test = pd.read_csv(\"data/testing_data.csv\")\n",
    "trainNames = pd.read_csv(\"data/training_data_names.csv\")\n",
    "testNames = pd.read_csv(\"data/dataNames.csv\")\n",
    "train.drop(['Unnamed: 0'], axis=1, inplace=True)\n",
    "test.drop(['Unnamed: 0'], axis=1, inplace=True)"
   ]
  },
  {
   "cell_type": "code",
   "execution_count": 7,
   "metadata": {
    "collapsed": true
   },
   "outputs": [],
   "source": [
    "# create data without label\n",
    "data = train.drop(\"MVP_dummy\", axis=1)"
   ]
  },
  {
   "cell_type": "code",
   "execution_count": 8,
   "metadata": {
    "collapsed": true
   },
   "outputs": [],
   "source": [
    "# train test split data\n",
    "from sklearn.model_selection import train_test_split\n",
    "X_train, X_test, y_train, y_test = train_test_split(data, train['MVP_dummy'], random_state=42)"
   ]
  },
  {
   "cell_type": "code",
   "execution_count": 9,
   "metadata": {},
   "outputs": [
    {
     "name": "stdout",
     "output_type": "stream",
     "text": [
      "R-squared = 1.0\n",
      "RMSE = 0.0\n",
      "[0 0 0 0 0 0 0 0 0 0 0 0 0 0 0 0 0 0 0 0 0 0 0 0 0 0 0 0 0 0 0 0 0 0 0 0 0\n",
      " 0 0 0 0 0 0 0 0 0 0 0 0 0 0 0 0 0 1 0 0 0 0 0 0 0 0 0 0 0 0 0 0 0 0 0 0 0\n",
      " 0 0 0 0 0 0 0 0 0 0 0 0 0 0 0 0 1 0 0 0 0 0 0 0 0 0]\n",
      "[0, 0, 0, 0, 0, 0, 0, 0, 0, 0, 0, 0, 0, 0, 0, 0, 0, 0, 0, 0, 0, 0, 0, 0, 0, 0, 0, 0, 0, 0, 0, 0, 0, 0, 0, 0, 0, 0, 0, 0, 0, 0, 0, 0, 0, 0, 0, 0, 0, 0, 0, 0, 0, 0, 1, 0, 0, 0, 0, 0, 0, 0, 0, 0, 0, 0, 0, 0, 0, 0, 0, 0, 0, 0, 0, 0, 0, 0, 0, 0, 0, 0, 0, 0, 0, 0, 0, 0, 0, 0, 1, 0, 0, 0, 0, 0, 0, 0, 0, 0]\n"
     ]
    }
   ],
   "source": [
    "# I used a gradient boosting classifier as my model, this works well with highly correlated variables, which is the \n",
    "# case with most baseball data. Here I'm using the train data to train the model\n",
    "model= GradientBoostingClassifier(n_estimators=10000, learning_rate=0.1, max_depth=1, random_state=0)\n",
    "# Train the model using the training sets and check score\n",
    "model.fit(X_train, y_train)\n",
    "# R-squared is 1.0, best possible score\n",
    "print(f\"R-squared = {model.score(X_train,y_train)}\")\n",
    "#Predict Output\n",
    "predicted= model.predict(X_train)\n",
    "res = y_train - predicted\n",
    "rmse = math.sqrt(sum(res**2))\n",
    "# RMSE = 0.0, best possible score\n",
    "print(f\"RMSE = {rmse}\" )\n",
    "print(predicted[:100])\n",
    "print(y_train.tolist()[:100])\n",
    "results = pd.DataFrame({\"playerid\": X_train['playerid'], \"Prediction\": predicted, \"Actual\": y_train, \"yearID\": X_train['yearID'], 'lgID': X_train['lgID_y']}).reset_index(drop=True)\n"
   ]
  },
  {
   "cell_type": "code",
   "execution_count": 10,
   "metadata": {},
   "outputs": [
    {
     "data": {
      "image/png": "[encoded data removed]",
      "text/plain": [
       "<matplotlib.figure.Figure at 0x1a10f817f0>"
      ]
     },
     "metadata": {},
     "output_type": "display_data"
    }
   ],
   "source": [
    "# plot model feature importance, showing the impact of each independent variable on the likelihood of winning the MVP\n",
    "# interesting to see that HR has the highest impact, and winning percentage was the second most impact of any feature\n",
    "# this plot shows what the MVP voters have cared about most over the past 20 years\n",
    "plt.figure(1, figsize=(15, 5))\n",
    "plt.bar(range(len(model.feature_importances_)), model.feature_importances_)\n",
    "labels = list(X_train)\n",
    "plt.xticks(range(len(model.feature_importances_)), labels, rotation='vertical')\n",
    "plt.xlabel(\"Features\")\n",
    "plt.ylabel(\"Importance\")\n",
    "plt.title(\"Features Importance\")\n",
    "plt.show()"
   ]
  },
  {
   "cell_type": "code",
   "execution_count": 11,
   "metadata": {},
   "outputs": [
    {
     "data": {
      "text/html": [
       "<div>\n",
       "<style>\n",
       "    .dataframe thead tr:only-child th {\n",
       "        text-align: right;\n",
       "    }\n",
       "\n",
       "    .dataframe thead th {\n",
       "        text-align: left;\n",
       "    }\n",
       "\n",
       "    .dataframe tbody tr th {\n",
       "        vertical-align: top;\n",
       "    }\n",
       "</style>\n",
       "<table border=\"1\" class=\"dataframe\">\n",
       "  <thead>\n",
       "    <tr style=\"text-align: right;\">\n",
       "      <th></th>\n",
       "      <th>Actual</th>\n",
       "      <th>Name</th>\n",
       "      <th>Prediction</th>\n",
       "      <th>Year</th>\n",
       "    </tr>\n",
       "  </thead>\n",
       "  <tbody>\n",
       "    <tr>\n",
       "      <th>0</th>\n",
       "      <td>1</td>\n",
       "      <td>Barry Bonds</td>\n",
       "      <td>1</td>\n",
       "      <td>2002</td>\n",
       "    </tr>\n",
       "    <tr>\n",
       "      <th>1</th>\n",
       "      <td>1</td>\n",
       "      <td>Alex Rodriguez</td>\n",
       "      <td>1</td>\n",
       "      <td>2005</td>\n",
       "    </tr>\n",
       "    <tr>\n",
       "      <th>2</th>\n",
       "      <td>1</td>\n",
       "      <td>Bryce Harper</td>\n",
       "      <td>1</td>\n",
       "      <td>2015</td>\n",
       "    </tr>\n",
       "    <tr>\n",
       "      <th>3</th>\n",
       "      <td>1</td>\n",
       "      <td>Ivan Rodriguez</td>\n",
       "      <td>1</td>\n",
       "      <td>1999</td>\n",
       "    </tr>\n",
       "    <tr>\n",
       "      <th>4</th>\n",
       "      <td>1</td>\n",
       "      <td>Alex Rodriguez</td>\n",
       "      <td>1</td>\n",
       "      <td>2007</td>\n",
       "    </tr>\n",
       "    <tr>\n",
       "      <th>5</th>\n",
       "      <td>1</td>\n",
       "      <td>Jason Giambi</td>\n",
       "      <td>1</td>\n",
       "      <td>2000</td>\n",
       "    </tr>\n",
       "    <tr>\n",
       "      <th>6</th>\n",
       "      <td>1</td>\n",
       "      <td>Miguel Tejada</td>\n",
       "      <td>1</td>\n",
       "      <td>2002</td>\n",
       "    </tr>\n",
       "    <tr>\n",
       "      <th>7</th>\n",
       "      <td>1</td>\n",
       "      <td>Juan Gonzalez</td>\n",
       "      <td>1</td>\n",
       "      <td>1998</td>\n",
       "    </tr>\n",
       "    <tr>\n",
       "      <th>8</th>\n",
       "      <td>1</td>\n",
       "      <td>Andrew McCutchen</td>\n",
       "      <td>1</td>\n",
       "      <td>2013</td>\n",
       "    </tr>\n",
       "    <tr>\n",
       "      <th>9</th>\n",
       "      <td>1</td>\n",
       "      <td>Mike Trout</td>\n",
       "      <td>1</td>\n",
       "      <td>2014</td>\n",
       "    </tr>\n",
       "    <tr>\n",
       "      <th>10</th>\n",
       "      <td>1</td>\n",
       "      <td>Joey Votto</td>\n",
       "      <td>1</td>\n",
       "      <td>2010</td>\n",
       "    </tr>\n",
       "    <tr>\n",
       "      <th>11</th>\n",
       "      <td>1</td>\n",
       "      <td>Jimmy Rollins</td>\n",
       "      <td>1</td>\n",
       "      <td>2007</td>\n",
       "    </tr>\n",
       "    <tr>\n",
       "      <th>12</th>\n",
       "      <td>1</td>\n",
       "      <td>Justin Morneau</td>\n",
       "      <td>1</td>\n",
       "      <td>2006</td>\n",
       "    </tr>\n",
       "    <tr>\n",
       "      <th>13</th>\n",
       "      <td>1</td>\n",
       "      <td>Kris Bryant</td>\n",
       "      <td>1</td>\n",
       "      <td>2016</td>\n",
       "    </tr>\n",
       "    <tr>\n",
       "      <th>14</th>\n",
       "      <td>1</td>\n",
       "      <td>Miguel Cabrera</td>\n",
       "      <td>1</td>\n",
       "      <td>2012</td>\n",
       "    </tr>\n",
       "    <tr>\n",
       "      <th>15</th>\n",
       "      <td>1</td>\n",
       "      <td>Albert Pujols</td>\n",
       "      <td>1</td>\n",
       "      <td>2009</td>\n",
       "    </tr>\n",
       "    <tr>\n",
       "      <th>16</th>\n",
       "      <td>1</td>\n",
       "      <td>Josh Donaldson</td>\n",
       "      <td>1</td>\n",
       "      <td>2015</td>\n",
       "    </tr>\n",
       "    <tr>\n",
       "      <th>17</th>\n",
       "      <td>1</td>\n",
       "      <td>Barry Bonds</td>\n",
       "      <td>1</td>\n",
       "      <td>2001</td>\n",
       "    </tr>\n",
       "    <tr>\n",
       "      <th>18</th>\n",
       "      <td>1</td>\n",
       "      <td>Joe Mauer</td>\n",
       "      <td>1</td>\n",
       "      <td>2009</td>\n",
       "    </tr>\n",
       "    <tr>\n",
       "      <th>19</th>\n",
       "      <td>1</td>\n",
       "      <td>Buster Posey</td>\n",
       "      <td>1</td>\n",
       "      <td>2012</td>\n",
       "    </tr>\n",
       "    <tr>\n",
       "      <th>20</th>\n",
       "      <td>1</td>\n",
       "      <td>Mike Trout</td>\n",
       "      <td>1</td>\n",
       "      <td>2016</td>\n",
       "    </tr>\n",
       "    <tr>\n",
       "      <th>21</th>\n",
       "      <td>1</td>\n",
       "      <td>Barry Bonds</td>\n",
       "      <td>1</td>\n",
       "      <td>2003</td>\n",
       "    </tr>\n",
       "    <tr>\n",
       "      <th>22</th>\n",
       "      <td>1</td>\n",
       "      <td>Ryan Howard</td>\n",
       "      <td>1</td>\n",
       "      <td>2006</td>\n",
       "    </tr>\n",
       "    <tr>\n",
       "      <th>23</th>\n",
       "      <td>1</td>\n",
       "      <td>Chipper Jones</td>\n",
       "      <td>1</td>\n",
       "      <td>1999</td>\n",
       "    </tr>\n",
       "    <tr>\n",
       "      <th>24</th>\n",
       "      <td>1</td>\n",
       "      <td>Ichiro Suzuki</td>\n",
       "      <td>1</td>\n",
       "      <td>2001</td>\n",
       "    </tr>\n",
       "  </tbody>\n",
       "</table>\n",
       "</div>"
      ],
      "text/plain": [
       "    Actual              Name  Prediction  Year\n",
       "0        1       Barry Bonds           1  2002\n",
       "1        1    Alex Rodriguez           1  2005\n",
       "2        1      Bryce Harper           1  2015\n",
       "3        1    Ivan Rodriguez           1  1999\n",
       "4        1    Alex Rodriguez           1  2007\n",
       "5        1      Jason Giambi           1  2000\n",
       "6        1     Miguel Tejada           1  2002\n",
       "7        1     Juan Gonzalez           1  1998\n",
       "8        1  Andrew McCutchen           1  2013\n",
       "9        1        Mike Trout           1  2014\n",
       "10       1        Joey Votto           1  2010\n",
       "11       1     Jimmy Rollins           1  2007\n",
       "12       1    Justin Morneau           1  2006\n",
       "13       1       Kris Bryant           1  2016\n",
       "14       1    Miguel Cabrera           1  2012\n",
       "15       1     Albert Pujols           1  2009\n",
       "16       1    Josh Donaldson           1  2015\n",
       "17       1       Barry Bonds           1  2001\n",
       "18       1         Joe Mauer           1  2009\n",
       "19       1      Buster Posey           1  2012\n",
       "20       1        Mike Trout           1  2016\n",
       "21       1       Barry Bonds           1  2003\n",
       "22       1       Ryan Howard           1  2006\n",
       "23       1     Chipper Jones           1  1999\n",
       "24       1     Ichiro Suzuki           1  2001"
      ]
     },
     "execution_count": 11,
     "metadata": {},
     "output_type": "execute_result"
    }
   ],
   "source": [
    "# Here's the table of the predicted vs actual results. Each of the predictions made are correct.\n",
    "winners = results.loc[results['Actual'] == 1]\n",
    "winnersNames = pd.merge(winners, trainNames, on=['playerid', 'yearID'], how='inner').drop_duplicates()\n",
    "winnersNames = pd.DataFrame({\"Actual\": winnersNames['Actual'], 'Prediction': winnersNames['Prediction'], 'Name': winnersNames['Name'], 'Year': winnersNames['yearID']})\n",
    "winnersNames"
   ]
  },
  {
   "cell_type": "code",
   "execution_count": 16,
   "metadata": {},
   "outputs": [
    {
     "name": "stdout",
     "output_type": "stream",
     "text": [
      "R-squared = 0.9846407021393307\n",
      "RMSE = 0.0\n",
      "[0 0 0 0 0 0 0 0 0 0 0 0 0 0 0 0 0 0 0 0 0 0 0 0 0 0 0 0 0 0 0 0 0 0 0 0 0\n",
      " 0 0 0 0 0 0 0 0 0 0 0 0 0 0 0 0 0 0 0 0 0 0 0 0 0 0 0 0 0 0 0 0 0 0 0 0 0\n",
      " 0 0 0 0 0 0 0 0 0 0 0 0 0 0 0 0 0 0 0 0 0 0 0 0 0 0]\n",
      "[0, 0, 0, 0, 0, 0, 0, 0, 0, 0, 0, 0, 0, 0, 0, 0, 0, 0, 0, 0, 0, 0, 0, 0, 0, 0, 0, 0, 0, 0, 0, 0, 0, 0, 0, 0, 0, 0, 0, 0, 0, 0, 0, 0, 0, 0, 0, 0, 0, 0, 0, 0, 0, 0, 0, 0, 0, 0, 0, 0, 0, 0, 0, 0, 0, 0, 0, 0, 0, 0, 0, 0, 0, 0, 0, 0, 0, 0, 0, 0, 0, 0, 0, 0, 0, 0, 0, 0, 0, 0, 0, 0, 0, 0, 0, 0, 0, 0, 0, 0]\n"
     ]
    }
   ],
   "source": [
    "# Here we are using the testing data from the train test split\n",
    "model= GradientBoostingClassifier(n_estimators=10000, learning_rate=0.1, max_depth=1, random_state=0)\n",
    "# Train the model using the training sets and check score\n",
    "model.fit(X_test, y_test)\n",
    "# R-squared is 1.0, best possible score\n",
    "print(f\"R-squared = {model.score(X_train,y_train)}\")\n",
    "#Predict Output\n",
    "predicted= model.predict(X_test)\n",
    "res = y_test - predicted\n",
    "rmse = math.sqrt(sum(res**2))\n",
    "# RMSE = 0.0, best possible score\n",
    "print(f\"RMSE = {rmse}\" )\n",
    "print(predicted[:100])\n",
    "print(y_test.tolist()[:100])\n",
    "results = pd.DataFrame({\"playerid\": X_test['playerid'], \"Prediction\": predicted, \"Actual\": y_test, \"yearID\": X_test['yearID'], 'lgID': X_test['lgID_y']}).reset_index(drop=True)\n"
   ]
  },
  {
   "cell_type": "code",
   "execution_count": 17,
   "metadata": {},
   "outputs": [
    {
     "data": {
      "image/png": "[encoded data removed]",
      "text/plain": [
       "<matplotlib.figure.Figure at 0x10ab40080>"
      ]
     },
     "metadata": {},
     "output_type": "display_data"
    }
   ],
   "source": [
    "# It was interesting to see slightly different R-squared values, but even more interesting are the differing importance\n",
    "# values for the features as compared to the test data. Here we see larger values across the board, along with slugging\n",
    "# and RBI as the most important features. HR and win% are way down in the rankings.\n",
    "plt.figure(1, figsize=(15, 5))\n",
    "plt.bar(range(len(model.feature_importances_)), model.feature_importances_)\n",
    "labels = list(X_train)\n",
    "plt.xticks(range(len(model.feature_importances_)), labels, rotation='vertical')\n",
    "plt.xlabel(\"Features\")\n",
    "plt.ylabel(\"Importance\")\n",
    "plt.title(\"Features Importance\")\n",
    "plt.show()"
   ]
  },
  {
   "cell_type": "code",
   "execution_count": 26,
   "metadata": {},
   "outputs": [
    {
     "data": {
      "text/html": [
       "<div>\n",
       "<style>\n",
       "    .dataframe thead tr:only-child th {\n",
       "        text-align: right;\n",
       "    }\n",
       "\n",
       "    .dataframe thead th {\n",
       "        text-align: left;\n",
       "    }\n",
       "\n",
       "    .dataframe tbody tr th {\n",
       "        vertical-align: top;\n",
       "    }\n",
       "</style>\n",
       "<table border=\"1\" class=\"dataframe\">\n",
       "  <thead>\n",
       "    <tr style=\"text-align: right;\">\n",
       "      <th></th>\n",
       "      <th>Actual</th>\n",
       "      <th>Name</th>\n",
       "      <th>Prediction</th>\n",
       "      <th>Year</th>\n",
       "    </tr>\n",
       "  </thead>\n",
       "  <tbody>\n",
       "    <tr>\n",
       "      <th>0</th>\n",
       "      <td>1</td>\n",
       "      <td>Ryan Braun</td>\n",
       "      <td>1</td>\n",
       "      <td>2011</td>\n",
       "    </tr>\n",
       "    <tr>\n",
       "      <th>1</th>\n",
       "      <td>1</td>\n",
       "      <td>Sammy Sosa</td>\n",
       "      <td>1</td>\n",
       "      <td>1998</td>\n",
       "    </tr>\n",
       "    <tr>\n",
       "      <th>2</th>\n",
       "      <td>1</td>\n",
       "      <td>Miguel Cabrera</td>\n",
       "      <td>1</td>\n",
       "      <td>2013</td>\n",
       "    </tr>\n",
       "    <tr>\n",
       "      <th>3</th>\n",
       "      <td>1</td>\n",
       "      <td>Jeff Kent</td>\n",
       "      <td>1</td>\n",
       "      <td>2000</td>\n",
       "    </tr>\n",
       "    <tr>\n",
       "      <th>4</th>\n",
       "      <td>1</td>\n",
       "      <td>Alex Rodriguez</td>\n",
       "      <td>1</td>\n",
       "      <td>2003</td>\n",
       "    </tr>\n",
       "    <tr>\n",
       "      <th>5</th>\n",
       "      <td>1</td>\n",
       "      <td>Albert Pujols</td>\n",
       "      <td>1</td>\n",
       "      <td>2008</td>\n",
       "    </tr>\n",
       "    <tr>\n",
       "      <th>6</th>\n",
       "      <td>1</td>\n",
       "      <td>Josh Hamilton</td>\n",
       "      <td>1</td>\n",
       "      <td>2010</td>\n",
       "    </tr>\n",
       "    <tr>\n",
       "      <th>7</th>\n",
       "      <td>1</td>\n",
       "      <td>Barry Bonds</td>\n",
       "      <td>1</td>\n",
       "      <td>2004</td>\n",
       "    </tr>\n",
       "    <tr>\n",
       "      <th>8</th>\n",
       "      <td>1</td>\n",
       "      <td>Albert Pujols</td>\n",
       "      <td>1</td>\n",
       "      <td>2005</td>\n",
       "    </tr>\n",
       "  </tbody>\n",
       "</table>\n",
       "</div>"
      ],
      "text/plain": [
       "   Actual            Name  Prediction  Year\n",
       "0       1      Ryan Braun           1  2011\n",
       "1       1      Sammy Sosa           1  1998\n",
       "2       1  Miguel Cabrera           1  2013\n",
       "3       1       Jeff Kent           1  2000\n",
       "4       1  Alex Rodriguez           1  2003\n",
       "5       1   Albert Pujols           1  2008\n",
       "6       1   Josh Hamilton           1  2010\n",
       "7       1     Barry Bonds           1  2004\n",
       "8       1   Albert Pujols           1  2005"
      ]
     },
     "execution_count": 26,
     "metadata": {},
     "output_type": "execute_result"
    }
   ],
   "source": [
    "# Here's the table of the predicted vs actual results. Each of the predictions made are correct.\n",
    "winners = results.loc[results['Actual'] == 1]\n",
    "winnersNames = pd.merge(winners, trainNames, on=['playerid', 'yearID'], how='left').drop_duplicates()\n",
    "winnersNames = pd.DataFrame({\"Actual\": winnersNames['Actual'], 'Prediction': winnersNames['Prediction'], 'Name': winnersNames['Name'], 'Year': winnersNames['yearID']})\n",
    "winnersNames"
   ]
  },
  {
   "cell_type": "code",
   "execution_count": 19,
   "metadata": {},
   "outputs": [
    {
     "name": "stdout",
     "output_type": "stream",
     "text": [
      "(608, 21) (608,)\n"
     ]
    }
   ],
   "source": [
    "# Time to create predictions using the model with 2018 data\n",
    "X_test_2018 = test.drop(\"MVP_dummy\", axis=1)\n",
    "y_test_2018 = test['MVP_dummy']\n",
    "print(X_test.shape, y_test.shape)"
   ]
  },
  {
   "cell_type": "code",
   "execution_count": 20,
   "metadata": {
    "collapsed": true
   },
   "outputs": [],
   "source": [
    "# predict using model.predict_proba(). This creates a probability of each player input's likelihood of winning the MVP\n",
    "predict = model.predict_proba(X_test_2018)\n",
    "predict = pd.DataFrame(predict, columns = [\"prob\", \"non-prob\"])\n",
    "results = pd.DataFrame({\"playerid\": X_test_2018['playerid'], \"prob\": predict['prob'], 'lgID': X_test_2018['lgID_y']})\n",
    "# results['prob'] = (1-results['prob'])*100\n",
    "results = results.sort_values(by = 'prob')\n",
    "NL = results.loc[results['lgID'] == 1]\n",
    "AL = results.loc[results['lgID'] == 0]"
   ]
  },
  {
   "cell_type": "code",
   "execution_count": 21,
   "metadata": {
    "collapsed": true
   },
   "outputs": [],
   "source": [
    "# More data cleaning here, and selecting the top 10 probabilities from each league\n",
    "ALtop10 = AL.head(6).reset_index(drop=True)\n",
    "NLtop10 = NL.head().reset_index(drop=True)\n",
    "\n",
    "testingNames = pd.DataFrame({\"playerid\": testNames['playerid'], 'Name': testNames['Name']})\n",
    "testingNames\n",
    "\n",
    "mergedAL = pd.merge(ALtop10, testingNames, on = ['playerid'], how='inner').drop_duplicates()\n",
    "mergedNL = pd.merge(NLtop10, testingNames, on = ['playerid'], how='inner').drop_duplicates()\n",
    "mergedAL['prob'] = (1-mergedAL['prob'])*100\n",
    "mergedNL['prob'] = (1-mergedNL['prob'])*100"
   ]
  },
  {
   "cell_type": "code",
   "execution_count": 22,
   "metadata": {},
   "outputs": [
    {
     "name": "stdout",
     "output_type": "stream",
     "text": [
      "    lgID  playerid       prob             Name\n",
      "0      0     13611  99.982263     Mookie Betts\n",
      "4      0     13510  36.414740     Jose Ramirez\n",
      "7      0     10155  12.253241       Mike Trout\n",
      "14     0     12161   4.016532  Xander Bogaerts\n",
      "19     0     11493   0.276674    Manny Machado\n",
      "24     0      6184   0.063171    J.D. Martinez\n",
      "    lgID  playerid       prob              Name\n",
      "0      1     11477  99.987602  Christian Yelich\n",
      "5      1      9777   0.000580     Nolan Arenado\n",
      "10     1     12979   0.000065       Javier Baez\n",
      "12     1      7859   0.000018  Charlie Blackmon\n",
      "17     1     12861   0.000014    Anthony Rendon\n"
     ]
    }
   ],
   "source": [
    "# Here are the results. Both races are not very close, with Mookie Betts and Christian Yelich as the front runners for\n",
    "# each league. Each finalist is represented except Nolan Arenado and Jose Ramirez (He was 6th most likely, and Manny \n",
    "# Machado should be removed from contention).  \n",
    "print(mergedAL)\n",
    "print(mergedNL)"
   ]
  },
  {
   "cell_type": "code",
   "execution_count": 23,
   "metadata": {},
   "outputs": [
    {
     "name": "stdout",
     "output_type": "stream",
     "text": [
      "0        Mookie Betts\n",
      "4        Jose Ramirez\n",
      "7          Mike Trout\n",
      "14    Xander Bogaerts\n",
      "19      Manny Machado\n",
      "24      J.D. Martinez\n",
      "Name: Name, dtype: object\n",
      "0     99.982263\n",
      "4     36.414740\n",
      "7     12.253241\n",
      "14     4.016532\n",
      "19     0.276674\n",
      "24     0.063171\n",
      "Name: prob, dtype: float64\n"
     ]
    },
    {
     "data": {
      "image/png": "[encoded data removed]",
      "text/plain": [
       "<matplotlib.figure.Figure at 0x10aa49d30>"
      ]
     },
     "metadata": {},
     "output_type": "display_data"
    }
   ],
   "source": [
    "# graph showing probabiliites as horizontal bar graphs for AL race\n",
    "X = mergedAL['Name']\n",
    "y = mergedAL['prob']\n",
    "print(X)\n",
    "print(y)\n",
    "\n",
    "plt.figure(figsize=(5, 5))\n",
    "plt.barh(X, y)\n",
    "\n",
    "plt.xlabel(\"Probability (%)\")\n",
    "plt.ylabel(\"MVP Candidates\")\n",
    "plt.title(\"American League MVP Candidate Probabilities\")\n",
    "\n",
    "plt.xlim(0, 100)\n",
    "plt.show()"
   ]
  },
  {
   "cell_type": "code",
   "execution_count": 24,
   "metadata": {},
   "outputs": [
    {
     "name": "stdout",
     "output_type": "stream",
     "text": [
      "0     Christian Yelich\n",
      "5        Nolan Arenado\n",
      "10         Javier Baez\n",
      "12    Charlie Blackmon\n",
      "17      Anthony Rendon\n",
      "Name: Name, dtype: object\n",
      "0     99.987602\n",
      "5      0.000580\n",
      "10     0.000065\n",
      "12     0.000018\n",
      "17     0.000014\n",
      "Name: prob, dtype: float64\n"
     ]
    },
    {
     "data": {
      "image/png": "[encoded data removed]",
      "text/plain": [
       "<matplotlib.figure.Figure at 0x1a113f3f60>"
      ]
     },
     "metadata": {},
     "output_type": "display_data"
    }
   ],
   "source": [
    "# graph showing probabiliites as horizontal bar graphs for NL race\n",
    "X = mergedNL['Name']\n",
    "y = mergedNL['prob']\n",
    "print(X)\n",
    "print(y)\n",
    "\n",
    "plt.figure(figsize=(5, 5))\n",
    "plt.barh(X, y)\n",
    "\n",
    "plt.xlabel(\"Probability (%)\")\n",
    "plt.ylabel(\"MVP Candidates\")\n",
    "plt.title(\"National League MVP Candidate Probabilities\")\n",
    "\n",
    "\n",
    "plt.xlim(0, 100)\n",
    "plt.show()"
   ]
  },
  {
   "cell_type": "code",
   "execution_count": null,
   "metadata": {
    "collapsed": true
   },
   "outputs": [],
   "source": []
  },
  {
   "cell_type": "code",
   "execution_count": null,
   "metadata": {
    "collapsed": true
   },
   "outputs": [],
   "source": []
  }
 ],
 "metadata": {
  "kernelspec": {
   "display_name": "Python 3",
   "language": "python",
   "name": "python3"
  },
  "language_info": {
   "codemirror_mode": {
    "name": "ipython",
    "version": 3
   },
   "file_extension": ".py",
   "mimetype": "text/x-python",
   "name": "python",
   "nbconvert_exporter": "python",
   "pygments_lexer": "ipython3",
   "version": "3.6.3"
  }
 },
 "nbformat": 4,
 "nbformat_minor": 2
}
