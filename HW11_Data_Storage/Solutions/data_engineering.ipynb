{
 "cells": [
  {
   "cell_type": "code",
   "execution_count": 1,
   "metadata": {
    "collapsed": true,
    "nbgrader": {
     "grade": false,
     "grade_id": "cell-b324b951784c4b07",
     "locked": false,
     "schema_version": 1,
     "solution": true
    }
   },
   "outputs": [],
   "source": [
    "### BEGIN SOLUTION\n",
    "import os\n",
    "import pandas as pd\n",
    "import numpy as np\n",
    "### END SOLUTION"
   ]
  },
  {
   "cell_type": "code",
   "execution_count": 2,
   "metadata": {
    "collapsed": true,
    "nbgrader": {
     "grade": false,
     "grade_id": "cell-46cb9115d8541708",
     "locked": false,
     "schema_version": 1,
     "solution": true
    }
   },
   "outputs": [],
   "source": [
    "# Grab a reference to the current directory\n",
    "### BEGIN SOLUTION\n",
    "rootdir = os.getcwd()\n",
    "### END SOLUTION"
   ]
  },
  {
   "cell_type": "code",
   "execution_count": 3,
   "metadata": {
    "collapsed": true,
    "nbgrader": {
     "grade": false,
     "grade_id": "cell-0c4fd9f73a3f7feb",
     "locked": false,
     "schema_version": 1,
     "solution": true
    }
   },
   "outputs": [],
   "source": [
    "# Use `os.scandir` to get a list of all files in the current directory\n",
    "### BEGIN SOLUTION\n",
    "csvs = os.scandir(rootdir)\n",
    "### END SOLUTION"
   ]
  },
  {
   "cell_type": "code",
   "execution_count": 4,
   "metadata": {
    "collapsed": true,
    "nbgrader": {
     "grade": false,
     "grade_id": "cell-ccb478e7116e802a",
     "locked": false,
     "schema_version": 1,
     "solution": true
    }
   },
   "outputs": [],
   "source": [
    "# Iterate through the list and clean/process any CSV file using Pandas\n",
    "### BEGIN SOLUTION\n",
    "for csv in csvs:\n",
    "    # Only open CSV file extensions\n",
    "    if csv.name.endswith('.csv'):\n",
    "        # Read the CSV file\n",
    "        df = pd.read_csv(csv.path, dtype=object)\n",
    "\n",
    "        # Drop the location column since lat, lon, and elev already exist\n",
    "        if 'location' in df.columns:\n",
    "            df = df.drop(['location'], axis=1).reset_index(drop=True)\n",
    "        \n",
    "        # Use the mean to fill in any NaNs\n",
    "        df.fillna(df.mean(), inplace=True)\n",
    "\n",
    "        # Save the cleaned files with a `clean_` prefix\n",
    "        df.to_csv(os.path.join(rootdir, f\"clean_{csv.name}\"), index=False)\n",
    "### END SOLUTION"
   ]
  },
  {
   "cell_type": "code",
   "execution_count": 5,
   "metadata": {
    "nbgrader": {
     "grade": false,
     "grade_id": "cell-684a376a90d9068b",
     "locked": true,
     "schema_version": 1,
     "solution": false
    }
   },
   "outputs": [
    {
     "name": "stdout",
     "output_type": "stream",
     "text": [
      "app.py                        data_engineering.ipynb\r\n",
      "clean_hawaii_measurements.csv database_engineering.ipynb\r\n",
      "clean_hawaii_stations.csv     \u001b[31mhawaii_measurements.csv\u001b[m\u001b[m\r\n",
      "climate_analysis.ipynb        \u001b[31mhawaii_stations.csv\u001b[m\u001b[m\r\n"
     ]
    }
   ],
   "source": [
    "# Verify that the cleaned files were created\n",
    "!ls"
   ]
  }
 ],
 "metadata": {
  "celltoolbar": "Create Assignment",
  "kernelspec": {
   "display_name": "Python 3",
   "language": "python",
   "name": "python3"
  },
  "language_info": {
   "codemirror_mode": {
    "name": "ipython",
    "version": 3
   },
   "file_extension": ".py",
   "mimetype": "text/x-python",
   "name": "python",
   "nbconvert_exporter": "python",
   "pygments_lexer": "ipython3",
   "version": "3.6.1"
  },
  "varInspector": {
   "cols": {
    "lenName": 16,
    "lenType": 16,
    "lenVar": 40
   },
   "kernels_config": {
    "python": {
     "delete_cmd_postfix": "",
     "delete_cmd_prefix": "del ",
     "library": "var_list.py",
     "varRefreshCmd": "print(var_dic_list())"
    },
    "r": {
     "delete_cmd_postfix": ") ",
     "delete_cmd_prefix": "rm(",
     "library": "var_list.r",
     "varRefreshCmd": "cat(var_dic_list()) "
    }
   },
   "types_to_exclude": [
    "module",
    "function",
    "builtin_function_or_method",
    "instance",
    "_Feature"
   ],
   "window_display": false
  }
 },
 "nbformat": 4,
 "nbformat_minor": 2
}
