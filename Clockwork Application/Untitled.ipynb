{
 "cells": [
  {
   "cell_type": "code",
   "execution_count": 5,
   "metadata": {},
   "outputs": [],
   "source": [
    "# SQL Alchemy\n",
    "import sqlalchemy\n",
    "from sqlalchemy import create_engine, inspect\n",
    "from sqlalchemy.ext.automap import automap_base\n",
    "from sqlalchemy.orm import Session\n",
    "from sqlalchemy.engine import reflection\n",
    "\n",
    "#import egnine\n",
    "from config import engine_url\n",
    "\n",
    "# PyMySQL \n",
    "# import PyMySQL\n",
    "# PyMySQL.install_as_MySQLdb()\n",
    "\n",
    "# Pandas\n",
    "import pandas as pd"
   ]
  },
  {
   "cell_type": "code",
   "execution_count": 12,
   "metadata": {},
   "outputs": [],
   "source": [
    "data = pd.read_csv(\"SPMB_Active_Waterfall.csv\")\n",
    "data =data.set_index('id')"
   ]
  },
  {
   "cell_type": "code",
   "execution_count": null,
   "metadata": {},
   "outputs": [],
   "source": [
    "data"
   ]
  },
  {
   "cell_type": "code",
   "execution_count": 51,
   "metadata": {},
   "outputs": [
    {
     "name": "stdout",
     "output_type": "stream",
     "text": [
      "enter project Id13847\n"
     ]
    }
   ],
   "source": [
    "project_id = input(\"enter project Id\")"
   ]
  },
  {
   "cell_type": "code",
   "execution_count": 52,
   "metadata": {},
   "outputs": [],
   "source": [
    "focus_project = data.filter(like=project_id, axis=0)"
   ]
  },
  {
   "cell_type": "code",
   "execution_count": 53,
   "metadata": {},
   "outputs": [
    {
     "data": {
      "text/html": [
       "<div>\n",
       "<style scoped>\n",
       "    .dataframe tbody tr th:only-of-type {\n",
       "        vertical-align: middle;\n",
       "    }\n",
       "\n",
       "    .dataframe tbody tr th {\n",
       "        vertical-align: top;\n",
       "    }\n",
       "\n",
       "    .dataframe thead th {\n",
       "        text-align: right;\n",
       "    }\n",
       "</style>\n",
       "<table border=\"1\" class=\"dataframe\">\n",
       "  <thead>\n",
       "    <tr style=\"text-align: right;\">\n",
       "      <th></th>\n",
       "      <th>title</th>\n",
       "      <th>company</th>\n",
       "      <th>project_started</th>\n",
       "      <th>project_closed</th>\n",
       "      <th>person_id</th>\n",
       "      <th>candidate_name</th>\n",
       "      <th>candidate_status</th>\n",
       "      <th>status_rank</th>\n",
       "      <th>research_added</th>\n",
       "      <th>researcher</th>\n",
       "      <th>pickup_date</th>\n",
       "      <th>pickup_user</th>\n",
       "      <th>watermark_status</th>\n",
       "      <th>watermark_rank</th>\n",
       "      <th>watermark_user</th>\n",
       "      <th>watermark_date</th>\n",
       "    </tr>\n",
       "    <tr>\n",
       "      <th>id</th>\n",
       "      <th></th>\n",
       "      <th></th>\n",
       "      <th></th>\n",
       "      <th></th>\n",
       "      <th></th>\n",
       "      <th></th>\n",
       "      <th></th>\n",
       "      <th></th>\n",
       "      <th></th>\n",
       "      <th></th>\n",
       "      <th></th>\n",
       "      <th></th>\n",
       "      <th></th>\n",
       "      <th></th>\n",
       "      <th></th>\n",
       "      <th></th>\n",
       "    </tr>\n",
       "  </thead>\n",
       "  <tbody>\n",
       "    <tr>\n",
       "      <th>13847</th>\n",
       "      <td>Head of Design</td>\n",
       "      <td>Stockpile</td>\n",
       "      <td>03/02/2016</td>\n",
       "      <td>05/09/2016</td>\n",
       "      <td>1250766</td>\n",
       "      <td>Rochelle King</td>\n",
       "      <td>Not Interested</td>\n",
       "      <td>150</td>\n",
       "      <td>03/02/2016</td>\n",
       "      <td>Nate Pearl</td>\n",
       "      <td>03/03/2016</td>\n",
       "      <td>Nate Pearl</td>\n",
       "      <td>Pursuing</td>\n",
       "      <td>1110.0</td>\n",
       "      <td>Nate Pearl</td>\n",
       "      <td>03/03/2016</td>\n",
       "    </tr>\n",
       "    <tr>\n",
       "      <th>13847</th>\n",
       "      <td>Head of Design</td>\n",
       "      <td>Stockpile</td>\n",
       "      <td>03/02/2016</td>\n",
       "      <td>05/09/2016</td>\n",
       "      <td>1288130</td>\n",
       "      <td>Andrew Crow</td>\n",
       "      <td>Pursuing</td>\n",
       "      <td>1110</td>\n",
       "      <td>03/02/2016</td>\n",
       "      <td>Nate Pearl</td>\n",
       "      <td>03/03/2016</td>\n",
       "      <td>Nate Pearl</td>\n",
       "      <td>Pursuing</td>\n",
       "      <td>1110.0</td>\n",
       "      <td>Nate Pearl</td>\n",
       "      <td>03/03/2016</td>\n",
       "    </tr>\n",
       "    <tr>\n",
       "      <th>13847</th>\n",
       "      <td>Head of Design</td>\n",
       "      <td>Stockpile</td>\n",
       "      <td>03/02/2016</td>\n",
       "      <td>05/09/2016</td>\n",
       "      <td>1290698</td>\n",
       "      <td>Jeff Zwerner</td>\n",
       "      <td>Withdrew</td>\n",
       "      <td>130</td>\n",
       "      <td>03/02/2016</td>\n",
       "      <td>Nate Pearl</td>\n",
       "      <td>03/03/2016</td>\n",
       "      <td>Nate Pearl</td>\n",
       "      <td>Candidate</td>\n",
       "      <td>1320.0</td>\n",
       "      <td>Nate Pearl</td>\n",
       "      <td>03/04/2016</td>\n",
       "    </tr>\n",
       "    <tr>\n",
       "      <th>13847</th>\n",
       "      <td>Head of Design</td>\n",
       "      <td>Stockpile</td>\n",
       "      <td>03/02/2016</td>\n",
       "      <td>05/09/2016</td>\n",
       "      <td>1292624</td>\n",
       "      <td>Sarah Alpern</td>\n",
       "      <td>Pursuing</td>\n",
       "      <td>1110</td>\n",
       "      <td>03/02/2016</td>\n",
       "      <td>Nate Pearl</td>\n",
       "      <td>03/03/2016</td>\n",
       "      <td>Nate Pearl</td>\n",
       "      <td>Pursuing</td>\n",
       "      <td>1110.0</td>\n",
       "      <td>Nate Pearl</td>\n",
       "      <td>03/03/2016</td>\n",
       "    </tr>\n",
       "    <tr>\n",
       "      <th>13847</th>\n",
       "      <td>Head of Design</td>\n",
       "      <td>Stockpile</td>\n",
       "      <td>03/02/2016</td>\n",
       "      <td>05/09/2016</td>\n",
       "      <td>2023018</td>\n",
       "      <td>Helena Seo</td>\n",
       "      <td>Not Interested</td>\n",
       "      <td>150</td>\n",
       "      <td>03/02/2016</td>\n",
       "      <td>Nate Pearl</td>\n",
       "      <td>08/16/2017</td>\n",
       "      <td>Anna Reed</td>\n",
       "      <td>Candidate</td>\n",
       "      <td>1320.0</td>\n",
       "      <td>Nate Pearl</td>\n",
       "      <td>09/05/2017</td>\n",
       "    </tr>\n",
       "  </tbody>\n",
       "</table>\n",
       "</div>"
      ],
      "text/plain": [
       "                title    company project_started project_closed  person_id  \\\n",
       "id                                                                           \n",
       "13847  Head of Design  Stockpile      03/02/2016     05/09/2016    1250766   \n",
       "13847  Head of Design  Stockpile      03/02/2016     05/09/2016    1288130   \n",
       "13847  Head of Design  Stockpile      03/02/2016     05/09/2016    1290698   \n",
       "13847  Head of Design  Stockpile      03/02/2016     05/09/2016    1292624   \n",
       "13847  Head of Design  Stockpile      03/02/2016     05/09/2016    2023018   \n",
       "\n",
       "      candidate_name candidate_status  status_rank research_added  researcher  \\\n",
       "id                                                                              \n",
       "13847  Rochelle King   Not Interested          150     03/02/2016  Nate Pearl   \n",
       "13847    Andrew Crow         Pursuing         1110     03/02/2016  Nate Pearl   \n",
       "13847   Jeff Zwerner         Withdrew          130     03/02/2016  Nate Pearl   \n",
       "13847   Sarah Alpern         Pursuing         1110     03/02/2016  Nate Pearl   \n",
       "13847     Helena Seo   Not Interested          150     03/02/2016  Nate Pearl   \n",
       "\n",
       "      pickup_date pickup_user watermark_status  watermark_rank watermark_user  \\\n",
       "id                                                                              \n",
       "13847  03/03/2016  Nate Pearl         Pursuing          1110.0     Nate Pearl   \n",
       "13847  03/03/2016  Nate Pearl         Pursuing          1110.0     Nate Pearl   \n",
       "13847  03/03/2016  Nate Pearl        Candidate          1320.0     Nate Pearl   \n",
       "13847  03/03/2016  Nate Pearl         Pursuing          1110.0     Nate Pearl   \n",
       "13847  08/16/2017   Anna Reed        Candidate          1320.0     Nate Pearl   \n",
       "\n",
       "      watermark_date  \n",
       "id                    \n",
       "13847     03/03/2016  \n",
       "13847     03/03/2016  \n",
       "13847     03/04/2016  \n",
       "13847     03/03/2016  \n",
       "13847     09/05/2017  "
      ]
     },
     "execution_count": 53,
     "metadata": {},
     "output_type": "execute_result"
    }
   ],
   "source": [
    "focus_project.head()"
   ]
  },
  {
   "cell_type": "code",
   "execution_count": null,
   "metadata": {},
   "outputs": [],
   "source": [
    "# tups = [('count', 'size'), ('in time', lambda x: (x==0).sum())]\n",
    "# df = df.groupby('course')['days overdue'].agg(tups).reset_index()\n",
    "\n",
    "# df['% completed in time'] = df['in time'].div(df['count'])"
   ]
  },
  {
   "cell_type": "code",
   "execution_count": null,
   "metadata": {},
   "outputs": [],
   "source": []
  },
  {
   "cell_type": "code",
   "execution_count": 36,
   "metadata": {},
   "outputs": [],
   "source": [
    "rank = 1500"
   ]
  },
  {
   "cell_type": "code",
   "execution_count": 47,
   "metadata": {},
   "outputs": [],
   "source": [
    "def overview_chart(rank1, rabnk2, ):\n",
    "    t=focus_project[focus_project['watermark_rank']>focus_project['status_rank']];\n",
    "    IN_activity=t[t['watermark_rank']==rank]\n",
    "    \n",
    "#     t1=user_db[user_db['watermark_rank']==user_db['status_rank']] \n",
    "    t2=focus_project[focus_project['watermark_rank']==rank]\n",
    "    OUT_activity=t2[t2['status_rank']<=1000.0]\n",
    "    \n",
    "    t=focus_project[focus_project['status_rank']==rank];\n",
    "    CURRENT_activity=t[t['watermark_rank']==rank]\n",
    "    \n",
    "    activity_dict={ 'TOTAL':IN_activity['watermark_rank'].count()+OUT_activity['watermark_rank'].count()+CURRENT_activity['watermark_rank'].count(),\n",
    "                  'IN':IN_activity['watermark_rank'].count(),\n",
    "                  'OUT': OUT_activity['watermark_rank'].count(),\n",
    "                  'CURRENT':CURRENT_activity['watermark_rank'].count()\n",
    "                  }\n",
    "    \n",
    "    return(activity_dict)\n",
    "    "
   ]
  },
  {
   "cell_type": "code",
   "execution_count": 48,
   "metadata": {},
   "outputs": [],
   "source": [
    "Pursuing= overview_chart(1110.0)\n",
    "Qualifying= overview_chart(1210.0)\n",
    "PotCand=overview_chart(1220.0)\n",
    "Intvw=overview_chart(1310.0)\n",
    "Candidate=overview_chart(1320.0)\n",
    "Finalist=overview_chart(1410.0)\n",
    "OffrExtend=overview_chart(1420.0)\n",
    "Placed=overview_chart(1500.0)"
   ]
  },
  {
   "cell_type": "code",
   "execution_count": 50,
   "metadata": {},
   "outputs": [
    {
     "data": {
      "text/plain": [
       "{'CURRENT': 154, 'IN': 108, 'OUT': 108, 'TOTAL': 370}"
      ]
     },
     "execution_count": 50,
     "metadata": {},
     "output_type": "execute_result"
    }
   ],
   "source": [
    "Pursuing"
   ]
  },
  {
   "cell_type": "code",
   "execution_count": null,
   "metadata": {},
   "outputs": [],
   "source": []
  }
 ],
 "metadata": {
  "kernelspec": {
   "display_name": "Python 3",
   "language": "python",
   "name": "python3"
  },
  "language_info": {
   "codemirror_mode": {
    "name": "ipython",
    "version": 3
   },
   "file_extension": ".py",
   "mimetype": "text/x-python",
   "name": "python",
   "nbconvert_exporter": "python",
   "pygments_lexer": "ipython3",
   "version": "3.6.4"
  }
 },
 "nbformat": 4,
 "nbformat_minor": 2
}
